{
  "cells": [
    {
      "cell_type": "markdown",
      "metadata": {
        "id": "-qoqii3S0R_V"
      },
      "source": [
        "# AGENDA​\n",
        "01 Introduction to Python\n",
        "\n",
        "02 Python Syntax​\n",
        "\n",
        "03 Variables and Data Types ​\n",
        "\n",
        "04 Introduction to ChatGPT​\n",
        "\n",
        "05 Applications of conversational AI​\n",
        "\n",
        "06 Generating Code snippets"
      ]
    },
    {
      "cell_type": "markdown",
      "metadata": {
        "id": "AGrHqGO00sYN"
      },
      "source": [
        "# What is Programming?\n",
        "\n",
        "**Programming**, often referred to as coding, is the process of designing and building an executable computer program to accomplish a specific computing task\n",
        "\n",
        "**Types of Programming**:\n",
        "\n",
        "1. Application Programming: Creating applications for desktops, smartphones, and web platforms.\n",
        "2. System Programming: Writing software to manage and control computer hardware.\n",
        "3. Embedded Programming: Developing software for non-computer devices, like cars, robots, and home appliances.\n",
        "4. Game Development: Building interactive games, which involves graphics programming, sound programming, physics programming, and AI programming.\n",
        "5. Data Science and Analysis: Writing programs to analyze and visualize data, often used in research, forecasting, and making data-driven decisions"
      ]
    },
    {
      "cell_type": "markdown",
      "metadata": {
        "id": "9iYZl50N0390"
      },
      "source": [
        "# Introduction to Python as a Programming Language  \n",
        "1. Python is a popular programming language. It was created by Guido van Rossum, and released in 1991.​\n",
        "\n",
        "2. Python is a high-level, interpreted programming language known for its ease of learning and flexibility.​\n",
        "\n",
        "3. It has become extremely popular in various fields, including data analysis, web development, and machine learning​\n",
        "\n",
        "4. There are two major Python versions: Python 2 and Python 3\n",
        "\n",
        "**Key features:**\n",
        "\n",
        "1. **Easy to Learn and Use:** Python's syntax is clear and intuitive, making it an excellent language for beginners. Its syntax is often described as almost like writing in English, which reduces the learning curve for new programmers.\n",
        "\n",
        "2. **Interpreted Language:** Unlike compiled languages, Python code is executed line by line, making debugging easier and more efficient.\n",
        "\n",
        "3. **High-Level Language:** Python abstracts many details of the computer's operating system, allowing programmers to focus more on programming logic rather than system specifics.\n",
        "\n",
        "4. **Extensive Standard Library:** Python comes with a large standard library that includes modules for various tasks, from web development to data analysis, reducing the need for external libraries.\n",
        "\n",
        "5. **Dynamic Typing:** Python is dynamically typed, meaning that the type of a variable is checked during runtime, which provides flexibility in coding.\n",
        "\n",
        "6. **Portability:** Python code can run on various platforms, including Windows, macOS, Linux, and Unix, with little to no modificatio"
      ]
    },
    {
      "cell_type": "markdown",
      "metadata": {
        "id": "glUXaZUe2dlH"
      },
      "source": [
        "# Best Practices of Python  \n",
        "\n"
      ]
    },
    {
      "cell_type": "markdown",
      "metadata": {
        "id": "sgf4uANB3b6p"
      },
      "source": [
        "1. **Indentation Guidelines​**: Python uses indentation to indicate blocks of code, such as loops, conditionals, and function definitions. It's recommended to use 4 spaces for indentation, although some developers use tabs. Consistency is key"
      ]
    },
    {
      "cell_type": "code",
      "execution_count": 1,
      "metadata": {
        "id": "dch5D36q0QzE"
      },
      "outputs": [
        {
          "ename": "NameError",
          "evalue": "name 'condition' is not defined",
          "output_type": "error",
          "traceback": [
            "\u001b[1;31m---------------------------------------------------------------------------\u001b[0m",
            "\u001b[1;31mNameError\u001b[0m                                 Traceback (most recent call last)",
            "Cell \u001b[1;32mIn[1], line 2\u001b[0m\n\u001b[0;32m      1\u001b[0m \u001b[38;5;66;03m# Good indentation\u001b[39;00m\n\u001b[1;32m----> 2\u001b[0m \u001b[38;5;28;01mif\u001b[39;00m \u001b[43mcondition\u001b[49m:\n\u001b[0;32m      3\u001b[0m     \u001b[38;5;28mprint\u001b[39m(\u001b[38;5;124m\"\u001b[39m\u001b[38;5;124mIndented block\u001b[39m\u001b[38;5;124m\"\u001b[39m)\n",
            "\u001b[1;31mNameError\u001b[0m: name 'condition' is not defined"
          ]
        }
      ],
      "source": [
        "# Good indentation\n",
        "if condition:\n",
        "    print(\"Indented block\")"
      ]
    },
    {
      "cell_type": "code",
      "execution_count": null,
      "metadata": {
        "id": "tRwpYmLt0sDQ"
      },
      "outputs": [],
      "source": [
        "# Bad indentation\n",
        "if condition:\n",
        "print(\"Incorrect indentation\")"
      ]
    },
    {
      "cell_type": "markdown",
      "metadata": {
        "id": "5pvPsvF13rCO"
      },
      "source": [
        " 2. **Line Spacing**: Proper spacing between lines improves code readability. Use blank lines to separate logical sections of code.\n"
      ]
    },
    {
      "cell_type": "code",
      "execution_count": null,
      "metadata": {
        "id": "E2ktEAGP31mZ"
      },
      "outputs": [],
      "source": [
        "def function1():\n",
        "    # Code block\n",
        "\n",
        "# Blank line\n",
        "\n",
        "def function2():\n",
        "    # Code block"
      ]
    },
    {
      "cell_type": "markdown",
      "metadata": {
        "id": "2e6DBTDI354O"
      },
      "source": [
        "3. **White Space Usage:**\n",
        "Use spaces appropriately to enhance readability. Avoid excessive spaces within lines."
      ]
    },
    {
      "cell_type": "code",
      "execution_count": null,
      "metadata": {
        "id": "q7CKPpHv4FVc"
      },
      "outputs": [],
      "source": [
        "x = 5  # Good: space after assignment operator\n",
        "y=3    # Bad: no space before assignment operator"
      ]
    },
    {
      "cell_type": "markdown",
      "metadata": {
        "id": "MOlkO5LU4J3k"
      },
      "source": [
        "4. **Comments:**\n",
        "Comments should be used to explain code logic, especially complex parts, rather than stating the obvious. Keep them concise and meaningful."
      ]
    },
    {
      "cell_type": "code",
      "execution_count": null,
      "metadata": {
        "id": "sY57HVBu4Jpe"
      },
      "outputs": [],
      "source": [
        "# Calculate the sum of two numbers\n",
        "def add(a, b):\n",
        "    return a + b"
      ]
    },
    {
      "cell_type": "markdown",
      "metadata": {
        "id": "zZ7aYxgc5Hg9"
      },
      "source": [
        "5. **Case Sensitivity:**\n",
        "Python is case-sensitive. It treats uppercase and lowercase letters as distinct.\n"
      ]
    },
    {
      "cell_type": "code",
      "execution_count": null,
      "metadata": {
        "id": "_OKTTIhQ5PQw"
      },
      "outputs": [],
      "source": [
        "variable = 5\n",
        "Variable = 10\n",
        "print(variable)  # Outputs: 5\n",
        "print(Variable)  # Outputs: 10"
      ]
    },
    {
      "cell_type": "markdown",
      "metadata": {
        "id": "poe80xDh5V0L"
      },
      "source": [
        "6.**Variable Names:**\n",
        "Use descriptive and meaningful names for variables, functions, and classes. Follow the snake_case convention for variable and function names, and CamelCase for class name"
      ]
    },
    {
      "cell_type": "code",
      "execution_count": null,
      "metadata": {
        "id": "DyqBOm9L5VPi"
      },
      "outputs": [],
      "source": [
        "# Good variable names\n",
        "max_attempts = 3\n",
        "user_input = \"Hello\""
      ]
    },
    {
      "cell_type": "code",
      "execution_count": null,
      "metadata": {
        "id": "8MxF9TM55bVU"
      },
      "outputs": [],
      "source": [
        "# Bad variable names\n",
        "x = 3\n",
        "a = \"Hello"
      ]
    },
    {
      "cell_type": "markdown",
      "metadata": {
        "id": "6KUA4I335i8V"
      },
      "source": [
        "# Python Variables\n",
        "\n",
        " A variable is a named reference to a value stored in memory. It's essentially a container that holds data which can be changed or manipulated throughout the program execution. Variables allow programmers to store and manipulate data dynamically.\n",
        "\n",
        " Eg:name = “John”​\n",
        "\n",
        "age = 20​\n",
        "\n",
        "gender = ‘Male’​\n",
        "\n",
        "enrolled = True"
      ]
    },
    {
      "cell_type": "code",
      "execution_count": null,
      "metadata": {
        "id": "TrW049o87FY1"
      },
      "outputs": [],
      "source": [
        "#Creating Variables\n",
        "x = 1\n",
        "y = \"Orange\"\n",
        "print(x)\n",
        "print(y)\n"
      ]
    },
    {
      "cell_type": "code",
      "execution_count": null,
      "metadata": {
        "id": "2ETgsJfS7X_i"
      },
      "outputs": [],
      "source": [
        "# Creating a meaning full variable\n",
        "Fav_Fruit = \"Mango\"\n",
        "print(Fav_Fruit)"
      ]
    },
    {
      "cell_type": "markdown",
      "metadata": {
        "id": "sAUkVAoK7jdI"
      },
      "source": [
        "# Types of Variable\n",
        "1. **Camel Case**:Each word, except the first, starts with a capital letter"
      ]
    },
    {
      "cell_type": "code",
      "execution_count": null,
      "metadata": {
        "id": "kAAK9GvL7r_0"
      },
      "outputs": [],
      "source": [
        "myFavFruit = \"Mango\""
      ]
    },
    {
      "cell_type": "markdown",
      "metadata": {
        "id": "RhayYCZ87u98"
      },
      "source": [
        "2. **Snake Case**:Each word is separated by an underscore character"
      ]
    },
    {
      "cell_type": "code",
      "execution_count": null,
      "metadata": {
        "id": "KfvtPFFN7hT4"
      },
      "outputs": [],
      "source": [
        "my_fav_fruit = \"Mango\""
      ]
    },
    {
      "cell_type": "markdown",
      "metadata": {
        "id": "5rZZ0m6Y70bk"
      },
      "source": [
        "3.Pascal Case:Each word starts with a capital letter"
      ]
    },
    {
      "cell_type": "code",
      "execution_count": null,
      "metadata": {
        "id": "_icLqGww70LX"
      },
      "outputs": [],
      "source": [
        "MyFavFruit = \"Mango\""
      ]
    },
    {
      "cell_type": "code",
      "execution_count": null,
      "metadata": {
        "id": "AiwSzL9a77dp"
      },
      "outputs": [],
      "source": [
        "#Assign Multiple variables\n",
        "x, y, z = \"Red\", \"Green\", \"Blue\"\n",
        "print(x)\n",
        "print(y)\n",
        "print(z)"
      ]
    },
    {
      "cell_type": "code",
      "execution_count": null,
      "metadata": {
        "id": "uUAxvFs678zI"
      },
      "outputs": [],
      "source": [
        "x = y = z = \"Pink\"\n",
        "print(x)\n",
        "print(y)\n",
        "print(z)"
      ]
    },
    {
      "cell_type": "code",
      "execution_count": null,
      "metadata": {},
      "outputs": [],
      "source": [
        "Colours = [\"Red\", \"Green\", \"Blue\"]\n",
        "x, y, z = Colours\n",
        "print(x)\n",
        "print(y)\n",
        "print(z)"
      ]
    },
    {
      "cell_type": "code",
      "execution_count": null,
      "metadata": {
        "id": "uj435Vm57_n7"
      },
      "outputs": [],
      "source": [
        "#Printing Output Variables\n",
        "print(x)\n",
        "\n",
        "print(x,y,z)\n",
        "\n",
        "print(x+y+z)"
      ]
    },
    {
      "cell_type": "markdown",
      "metadata": {
        "id": "GW3P-HKq6fUF"
      },
      "source": [
        "# Python DataTypes\n",
        "\n",
        "Data types specify the type of data that variables can store."
      ]
    },
    {
      "cell_type": "code",
      "execution_count": null,
      "metadata": {
        "id": "nrqWaL9_6c92"
      },
      "outputs": [],
      "source": [
        "integer_example = 10\n",
        "float_example = 10.5\n",
        "string_example = 'Hello, Python'\n",
        "boolean_example = True\n",
        "\n",
        "print(integer_example, float_example, string_example, boolean_example)"
      ]
    },
    {
      "cell_type": "markdown",
      "metadata": {
        "id": "SFtp2kon63xc"
      },
      "source": [
        "**Discussion:**\n",
        "\n",
        "What do you expect to be the result of the following code?\n",
        "\n",
        "result = 3 + 'apple'"
      ]
    },
    {
      "cell_type": "code",
      "execution_count": null,
      "metadata": {
        "id": "RI6T27Mh7RtG"
      },
      "outputs": [],
      "source": [
        "# Casting: If you want to specify the data type of a variable\n",
        "x = str(2)\n",
        "y = int(2)\n",
        "z = float(2)\n",
        "print(x)\n",
        "print(y)\n",
        "print(z)"
      ]
    },
    {
      "cell_type": "code",
      "execution_count": null,
      "metadata": {
        "id": "mDMT1epf7VfG"
      },
      "outputs": [],
      "source": [
        "# To fig out the Datatype\n",
        "x = 1\n",
        "y = \"Orange\"\n",
        "print(type(x))\n",
        "print(type(y))"
      ]
    },
    {
      "cell_type": "code",
      "execution_count": null,
      "metadata": {
        "id": "5cG7i4JY8IZC"
      },
      "outputs": [],
      "source": [
        "x = \"Hello World\"\t#str\n",
        "x = 20\t#int\n",
        "x = 20.5\t#float\n",
        "x = 1j\t#complex\n",
        "x = [\"apple\", \"banana\", \"cherry\"]\t#list\n",
        "x = (\"apple\", \"banana\", \"cherry\")\t#tuple\n",
        "x = range(6)\t#range\n",
        "x = {\"name\" : \"John\", \"age\" : 36}\t#dict\n",
        "x = {\"apple\", \"banana\", \"cherry\"}\t#set\n",
        "x = True\t#boolean\n"
      ]
    },
    {
      "cell_type": "markdown",
      "metadata": {
        "id": "8-K9N84p8MLH"
      },
      "source": [
        "# Excercise\n",
        "\n",
        "*  Create variables that consist names of your fav Cars\n",
        "*  Create variables that consist names of your fav Actors\n",
        "\n",
        "\n",
        "\n"
      ]
    },
    {
      "cell_type": "markdown",
      "metadata": {
        "id": "UjZ_eJriB_y4"
      },
      "source": [
        "# Introduction to ChatGPT\n",
        "**ChatGPT** is an advanced form of conversational AI developed by OpenAI. ​\n",
        "\n",
        "It's built upon the GPT (Generative Pre-trained Transformer) architecture, which enables it to understand and generate human-like text based on the input it receives.​\n",
        "\n",
        " By training on vast amounts of text data, ChatGPT has acquired a broad understanding of language patterns, enabling it to engage in meaningful conversations across various topics."
      ]
    },
    {
      "cell_type": "markdown",
      "metadata": {
        "id": "vrxk7VzxCMm7"
      },
      "source": [
        "# Capabilities of ChatGPT\n",
        "\n",
        "1. **Natural Language Understanding (NLU):** ChatGPT possesses the ability to understand and interpret human language with remarkable accuracy. It can comprehend the context, intent, and nuances of user inputs, allowing for more meaningful and contextually relevant responses.​\n",
        "\n",
        "2. **Contextual Responses**: One of ChatGPT's strengths is its capability to generate responses based on the context of the conversation. By analyzing previous messages and understanding the flow of dialogue, it can provide coherent and relevant replies, creating a more engaging and interactive conversation experience.​\n",
        "\n",
        "3. **Information Retrieval:** ChatGPT has access to a vast repository of information collected from various sources. It can retrieve and present relevant information to users in real-time, making it a valuable resource for answering questions, providing explanations, and offering insights on a wide range of topics.​\n",
        "\n",
        "4. **Task Assistance:** ChatGPT can assist users with a variety of tasks, including writing, brainstorming, decision-making, and more. Whether it's drafting emails, generating ideas for creative projects, or helping with problem-solving, ChatGPT serves as a capable virtual assistant, enhancing productivity and efficiency.​\n",
        "\n",
        "5. **Code Generation:** ChatGPT can generate code snippets based on user prompts or descriptions of desired functionality. While it may not replace the expertise of experienced developers, it can aid in prototyping, automation, and speeding up the development process. By understanding programming languages and syntax, ChatGPT can provide valuable assistance to software developers.​\n",
        "\n",
        "6. **Language Translation:** ChatGPT is proficient in translating text between different languages, facilitating communication and collaboration across linguistic barriers. Whether it's translating messages in real-time or converting entire documents, ChatGPT helps bridge the gap between speakers of different languages.​\n",
        "\n",
        "7. **Emotional Engagement:** ChatGPT is designed to engage users in conversations that go beyond simple question-and-answer interactions. It can exhibit empathy, humor, and personality traits, making interactions with it more enjoyable and human-like. This emotional engagement enhances user experience and fosters a sense of connection with the AI.\n",
        "\n"
      ]
    },
    {
      "cell_type": "markdown",
      "metadata": {
        "id": "7TFclkOkCvea"
      },
      "source": [
        "**Discussion:**\n",
        "\n",
        "What are the applications of conversational AI in software development?"
      ]
    },
    {
      "cell_type": "markdown",
      "metadata": {
        "id": "1br5uc6dC8CV"
      },
      "source": [
        "# Applications of conversational AI\n",
        "\n",
        "1. **Automated Testing and Debugging:** can assist in automated testing by simulating user interactions with software applications. It can execute test scripts, identify bugs, and provide detailed reports on software behavior​\n",
        "\n",
        "2. **Code Generation and Autocompletion**: can generate code snippets based on natural language descriptions of desired functionality. This capability aids developers in prototyping, accelerating the development process, and reducing the time spent on manual coding tasks. ​\n",
        "\n",
        "3. **Documentation and Knowledge Sharing:** Conversational AI can assist in documenting software projects by generating documentation based on developer inputs or by answering questions about code functionality and usage. This helps developers maintain comprehensive documentation and facilitates knowledge sharing within development teams."
      ]
    },
    {
      "cell_type": "markdown",
      "metadata": {
        "id": "CEq1QRtnDSb3"
      },
      "source": [
        "# Excercise\n",
        "\n",
        "\n",
        "*   \tGenerating Code Snippets using ChatGPT\n",
        "\n",
        "\n"
      ]
    },
    {
      "cell_type": "markdown",
      "metadata": {
        "id": "I_y2H6SHD1s2"
      },
      "source": [
        "# Recap\n",
        "\n",
        "*   Introduction to Python​\n",
        "* Best Practices of python​\n",
        "* Python Variable and Datatypes​\n",
        "* Applications of AI Roles and impact of AI​\n",
        "* Generating Code Snipppets​"
      ]
    }
  ],
  "metadata": {
    "colab": {
      "private_outputs": true,
      "provenance": []
    },
    "kernelspec": {
      "display_name": "Python 3",
      "name": "python3"
    },
    "language_info": {
      "codemirror_mode": {
        "name": "ipython",
        "version": 3
      },
      "file_extension": ".py",
      "mimetype": "text/x-python",
      "name": "python",
      "nbconvert_exporter": "python",
      "pygments_lexer": "ipython3",
      "version": "3.13.1"
    }
  },
  "nbformat": 4,
  "nbformat_minor": 0
}
