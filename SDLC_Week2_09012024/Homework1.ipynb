{
 "cells": [
  {
   "cell_type": "markdown",
   "metadata": {},
   "source": [
    "# Practice Exercises by YEMI AROLE \n",
    "\n",
    "\n",
    "## Control Structures - If-Else Statements, Loops\n",
    "\n",
    "### INDIVIDUAL EXERCISES"
   ]
  },
  {
   "cell_type": "markdown",
   "metadata": {},
   "source": [
    "#### **IF Statement**\n",
    "##### *Exercise 1: Check if the number is even*"
   ]
  },
  {
   "cell_type": "markdown",
   "metadata": {},
   "source": [
    "* Define the number you want to check in “Num” variable.\n",
    "\n",
    "* Use the modulo operator (%) to check if the number is divisible by 2.\n",
    "\n",
    "* If the remainder is 0, the number is even. Print a message indicating that.\n",
    "\n",
    "**Final code:**"
   ]
  },
  {
   "cell_type": "code",
   "execution_count": 1,
   "metadata": {},
   "outputs": [
    {
     "name": "stdout",
     "output_type": "stream",
     "text": [
      "The number is even.\n"
     ]
    }
   ],
   "source": [
    "num = 8\n",
    "if num % 2 ==0:\n",
    "    print(\"The number is even.\")"
   ]
  },
  {
   "cell_type": "markdown",
   "metadata": {},
   "source": [
    "##### *Exercise 2: Display a message if a list is empty.*"
   ]
  },
  {
   "cell_type": "markdown",
   "metadata": {},
   "source": [
    "* Define the list you want to check in “my_list” variable.\n",
    "* Check the length of the list\n",
    "* If the length is 0, the list is empty. Print a message indicating that. e.g.: print ('list is\n",
    "empty')\n",
    "\n",
    "**Final code**"
   ]
  },
  {
   "cell_type": "code",
   "execution_count": null,
   "metadata": {},
   "outputs": [],
   "source": [
    "my_list = []\n",
    "if len(my_list) == 0:\n",
    "    print(\"The list is empty.\")"
   ]
  },
  {
   "cell_type": "markdown",
   "metadata": {},
   "source": [
    "#### **else Statement**\n",
    "##### *Exercise 1: Write a script to check if a number as odd or even.*\n"
   ]
  },
  {
   "cell_type": "markdown",
   "metadata": {},
   "source": [
    "* Define the number you want to check in “Num” variable\n",
    "* Use the modulo operator (%) to check if the number is divisible by 2.\n",
    "* If the remainder is 0, the number is even. Print a message indicating that.\n",
    "* If the condition in step 2 is false (i.e., the number is odd), print a message indicating that.\n",
    "\n",
    "Final code:"
   ]
  },
  {
   "cell_type": "code",
   "execution_count": 5,
   "metadata": {},
   "outputs": [
    {
     "name": "stdout",
     "output_type": "stream",
     "text": [
      "The number is even.\n"
     ]
    }
   ],
   "source": [
    "num = 4\n",
    "if num % 2 == 0:\n",
    "    print(\"The number is even.\")\n",
    "else:\n",
    "    print(\"The number is odd.\")"
   ]
  },
  {
   "cell_type": "markdown",
   "metadata": {},
   "source": [
    "#### **elif Statement**\n",
    "##### *Exercise 1: Write a script for Temp categories.*\n"
   ]
  },
  {
   "cell_type": "markdown",
   "metadata": {},
   "source": [
    "- Define the temperature in “temp” variable.\n",
    "- Check if the temperature is less than or equal to 0 degrees.\n",
    "- If true, it means the temperature is freezing. Print a message indicating that.\n",
    "- Else if the temperature is less than 10 degrees\n",
    "- If true, it means the temperature is cold. Print a message indicating that. \n",
    "- You can add as many elif statements.\n",
    "- Else if the temperature is less than 20 degrees\n",
    "- If true, it means the temperature is moderate. Print a message indicating that. \n",
    "- Else if the temperature is less than 25 degrees\n",
    "- If true, it means the temperature is warm. Print a message indicating that.\n",
    "- Else none of the above conditions are met (i.e., the temperature is 35 degrees or higher), it means that the temperature is hot. Print a message indicating that. \n",
    "\n",
    "Final code:"
   ]
  },
  {
   "cell_type": "code",
   "execution_count": 7,
   "metadata": {},
   "outputs": [
    {
     "name": "stdout",
     "output_type": "stream",
     "text": [
      "Its HOT!\n"
     ]
    }
   ],
   "source": [
    "temp = 35\n",
    "if temp <=0:\n",
    "    print('Its freezing cold!!')\n",
    "elif temp <= 10:\n",
    "    print('Its cold!')\n",
    "elif temp <= 20:\n",
    "    print('Its moderate')\n",
    "elif temp <= 25:\n",
    "    print('Its warm')\n",
    "else:\n",
    "    print('Its HOT!')"
   ]
  },
  {
   "cell_type": "markdown",
   "metadata": {},
   "source": [
    "### **for Loop**\n",
    "##### *Exercise 1: Print each character in a string.*\n"
   ]
  },
  {
   "cell_type": "markdown",
   "metadata": {},
   "source": [
    "- Define the string in “string” variable.\n",
    "- Use for loop to iterate through each character in the string.\n",
    "- Print each character in the string during each iteration of the loop.\n",
    "\n",
    "Final code: "
   ]
  },
  {
   "cell_type": "code",
   "execution_count": 10,
   "metadata": {},
   "outputs": [
    {
     "name": "stdout",
     "output_type": "stream",
     "text": [
      "L\n",
      "e\n",
      "t\n",
      "s\n",
      " \n",
      "g\n",
      "e\n",
      "t\n",
      " \n",
      "c\n",
      "o\n",
      "d\n",
      "i\n",
      "n\n",
      "g\n",
      "!\n"
     ]
    }
   ],
   "source": [
    "string = 'Lets get coding!'\n",
    "for char in string:\n",
    "    print(char)"
   ]
  },
  {
   "cell_type": "markdown",
   "metadata": {},
   "source": [
    "##### *Exercise 2: Create a list of squares of the first 10 natural numbers.*\n",
    "\n",
    "- Generate a list of squares of the first 10 natural numbers by iterating each value “I” in the\n",
    "range from 1 to 10 (inclusive) and calculates its square i ** 2. The resulting squares are\n",
    "collected into a list called squares. e.g.: squares = [i ** 2 for i in range(1, 11)]\n",
    "- Print the list. \n",
    "\n",
    "Final code:"
   ]
  },
  {
   "cell_type": "code",
   "execution_count": 11,
   "metadata": {},
   "outputs": [
    {
     "name": "stdout",
     "output_type": "stream",
     "text": [
      "[1, 4, 9, 16, 25, 36, 49, 64, 81, 100]\n"
     ]
    }
   ],
   "source": [
    "squares = [i**2 for i in range(1,11)]\n",
    "print(squares)"
   ]
  },
  {
   "cell_type": "markdown",
   "metadata": {},
   "source": [
    "### **while Loop**\n",
    "##### *Exercise 1: Add numbers until sum reaches 100*"
   ]
  },
  {
   "cell_type": "markdown",
   "metadata": {},
   "source": [
    "- Start by initializing two variables “total_sum” to keep track of the sum of numbers and “current_number” to represent the current number to be added. \n",
    "- Use a while loop to add numbers until the “total_sum” reaches or exceeds 100. Inside the loop:\n",
    "    - Add the “current_number” to the “total_sum”.\n",
    "    - Increment the “current_number” by 1. \n",
    "- The loop will continue until the total_sum reaches or exceeds 100. After the loop, print the final total_sum.\n",
    "\n",
    "Final code:"
   ]
  },
  {
   "cell_type": "code",
   "execution_count": 14,
   "metadata": {},
   "outputs": [
    {
     "name": "stdout",
     "output_type": "stream",
     "text": [
      "The sum of numbers until reaching 100 is: 114\n"
     ]
    }
   ],
   "source": [
    "total_sum = 4\n",
    "current_num = 5\n",
    "\n",
    "while total_sum < 100:\n",
    "    total_sum += current_num\n",
    "    current_num += 1\n",
    "print('The sum of numbers until reaching 100 is:', total_sum)"
   ]
  },
  {
   "cell_type": "markdown",
   "metadata": {},
   "source": [
    "### **Infinite Loops and break**\n",
    "##### *Exercise 1: Guessing game with break on correct guess.*"
   ]
  },
  {
   "cell_type": "code",
   "execution_count": null,
   "metadata": {},
   "outputs": [
    {
     "name": "stdout",
     "output_type": "stream",
     "text": [
      "Try a lower number\n",
      "Try a lower number\n",
      "Try a lower number\n",
      "Game over, the correct number was 4\n"
     ]
    }
   ],
   "source": [
    "import random\n",
    "number = random.randint(1, 10) # Generate a random number between 1 and 10 (inclusive)\n",
    "\n",
    "# Allow the user three attempts to guess the number\n",
    "for _ in range(3):\n",
    "\n",
    "      # Get a guess from the user\n",
    "    guess = int(input('Guess a number between 1 & 10: '))\n",
    "\n",
    "\n",
    "    # Check if the guess is correct\n",
    "    if guess == number:\n",
    "        print('Correct!')\n",
    "        break   # Exit the loop if the guess is correct\n",
    "    elif guess < number:\n",
    "        print('Try a higher number')\n",
    "    else:\n",
    "        print('Try a lower number')\n",
    "else: # If the loop completes three iterations without a correct guess, print \"Game over\"\n",
    "    print('Game over! The correct number was', number)"
   ]
  }
 ],
 "metadata": {
  "kernelspec": {
   "display_name": "Python 3",
   "language": "python",
   "name": "python3"
  },
  "language_info": {
   "codemirror_mode": {
    "name": "ipython",
    "version": 3
   },
   "file_extension": ".py",
   "mimetype": "text/x-python",
   "name": "python",
   "nbconvert_exporter": "python",
   "pygments_lexer": "ipython3",
   "version": "3.13.1"
  }
 },
 "nbformat": 4,
 "nbformat_minor": 2
}
