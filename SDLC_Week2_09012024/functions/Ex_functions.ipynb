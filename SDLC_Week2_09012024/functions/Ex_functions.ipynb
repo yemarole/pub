{
 "cells": [
  {
   "cell_type": "markdown",
   "metadata": {},
   "source": [
    "# **Practice Exercises** by Yemi Arole\n",
    "## Functions, Modules and Collections in Python"
   ]
  },
  {
   "cell_type": "markdown",
   "metadata": {},
   "source": [
    "#### **Exercise 1:** \n",
    "Create a function that takes two parameters for :  name and age, and outputs a Birthday message “ Happy Birthday ‘name’ I hear you are ‘age’ today!”"
   ]
  },
  {
   "cell_type": "code",
   "execution_count": 3,
   "metadata": {},
   "outputs": [
    {
     "name": "stdout",
     "output_type": "stream",
     "text": [
      "Happy Birthday Otis I hear you are 6 today!\n"
     ]
    }
   ],
   "source": [
    "def birthday_msg(name,age):\n",
    "    message = print(\"Happy Birthday\", name, \"I hear you are\", age, \"today!\")\n",
    "    return message\n",
    "\n",
    "# birthday_msg(\"Otis\", 6)\n",
    "name = 'Otis'\n",
    "age = 6\n",
    "birthday_msg(name, age)"
   ]
  },
  {
   "cell_type": "markdown",
   "metadata": {},
   "source": [
    "#### Extra Practice: create the an input program"
   ]
  },
  {
   "cell_type": "code",
   "execution_count": 14,
   "metadata": {},
   "outputs": [
    {
     "name": "stdout",
     "output_type": "stream",
     "text": [
      "Happy Birthday Yemi I hear you are 30 today!\n"
     ]
    }
   ],
   "source": [
    "def bday():\n",
    "    name = input(\"What is your name?: \")\n",
    "    age = input(\"How old are you?: \")\n",
    "    message = birthday_msg(name, age)\n",
    "    return message\n",
    "\n",
    "if __name__ == \"__main__\":\n",
    "    bday()"
   ]
  },
  {
   "cell_type": "markdown",
   "metadata": {},
   "source": [
    "#### **Exercise 2:**\n",
    "Create a function that takes two parameters: size and type of drink, and then outputs the drinks order."
   ]
  },
  {
   "cell_type": "code",
   "execution_count": 6,
   "metadata": {},
   "outputs": [
    {
     "name": "stdout",
     "output_type": "stream",
     "text": [
      "You ordered a large Fanta.\n"
     ]
    }
   ],
   "source": [
    "def drink_order(drink_type, size):\n",
    "    order = print(\"You ordered a\", size, drink_type + \".\")\n",
    "    return order\n",
    "\n",
    "# drink_order(\"Fanta\", \"large\")\n",
    "drink_type = 'Fanta'\n",
    "size = 'large'\n",
    "drink_order(drink_type, size)"
   ]
  },
  {
   "cell_type": "markdown",
   "metadata": {},
   "source": [
    "#### **Exercise 3:**\n",
    "Create a cash machine program that takes a pin number and amount. Outputs cash is being dispensed if the pin is correct and there is enough money to withdraw. Finally outputs the new balance."
   ]
  },
  {
   "cell_type": "code",
   "execution_count": 15,
   "metadata": {},
   "outputs": [
    {
     "name": "stdout",
     "output_type": "stream",
     "text": [
      "You are withdrawing 400. Your cash is being dispensed...\n",
      "Your new balance is 9600.\n"
     ]
    }
   ],
   "source": [
    "def cash_withdrawal(pin, balance, pin_attempt, amount):\n",
    "    if pin == pin_attempt:\n",
    "        if balance >= amount:\n",
    "            balance -= amount\n",
    "            print(\"You are withdrawing\", str(amount) + \". Your cash is being dispensed...\")\n",
    "            print(\"Your new balance is\", str(balance) + \".\")\n",
    "        else:\n",
    "            print(\"Insufficient funds. Unable to withdraw.\")\n",
    "    else:\n",
    "        print(\"Incorrect PIN. Transaction cancelled.\")\n",
    "\n",
    "# cash_withdrawal(1234, 100, 1234, 120)\n",
    "\n",
    "def main():\n",
    "    pin = 1234\n",
    "    balance = 10000\n",
    "    pin_attempt = int(input(\"Enter your PIN: \"))\n",
    "    amount = int(input(\"Enter the amount you wish to withdraw: \"))\n",
    "    cash_withdrawal(pin, balance, pin_attempt, amount)\n",
    "\n",
    "if __name__ == \"__main__\":\n",
    "    main()"
   ]
  },
  {
   "cell_type": "markdown",
   "metadata": {},
   "source": [
    "#### **Exercise 4:** Roll the Dice"
   ]
  },
  {
   "cell_type": "code",
   "execution_count": 36,
   "metadata": {},
   "outputs": [
    {
     "name": "stdout",
     "output_type": "stream",
     "text": [
      "You rolled a 2.\n",
      "Unlucky! Try again!\n"
     ]
    }
   ],
   "source": [
    "import random\n",
    "\n",
    "def dice_roll():\n",
    "    roll = random.randint(1,6)\n",
    "    print(\"You rolled a\", str(roll) + \".\")\n",
    "    if roll == 6:\n",
    "        print(\"Congratulations! Move 2 spaces!\")\n",
    "    else:\n",
    "        print(\"Unlucky! Try again!\")\n",
    "\n",
    "if __name__ == \"__main__\":\n",
    "    dice_roll()\n"
   ]
  },
  {
   "cell_type": "markdown",
   "metadata": {},
   "source": [
    "#### **Exercise 5:** Lists"
   ]
  },
  {
   "cell_type": "markdown",
   "metadata": {},
   "source": [
    "Create a list of your fav sport games."
   ]
  },
  {
   "cell_type": "code",
   "execution_count": 72,
   "metadata": {},
   "outputs": [
    {
     "name": "stdout",
     "output_type": "stream",
     "text": [
      "['football', 'tennis', 'volleyball', 'athletics', 'basketball']\n"
     ]
    }
   ],
   "source": [
    "fav_sport = ['football', 'tennis', 'volleyball', 'athletics', 'basketball']\n",
    "print(fav_sport)"
   ]
  },
  {
   "cell_type": "markdown",
   "metadata": {},
   "source": [
    "Add 'Hockey' to your list"
   ]
  },
  {
   "cell_type": "code",
   "execution_count": 73,
   "metadata": {},
   "outputs": [
    {
     "name": "stdout",
     "output_type": "stream",
     "text": [
      "['football', 'tennis', 'volleyball', 'athletics', 'basketball', 'hockey']\n"
     ]
    }
   ],
   "source": [
    "fav_sport.append('hockey')\n",
    "print(fav_sport)"
   ]
  },
  {
   "cell_type": "markdown",
   "metadata": {},
   "source": [
    "Access the first 4 elements\n"
   ]
  },
  {
   "cell_type": "code",
   "execution_count": 74,
   "metadata": {},
   "outputs": [
    {
     "name": "stdout",
     "output_type": "stream",
     "text": [
      "First four sports: football, tennis, volleyball, athletics\n"
     ]
    }
   ],
   "source": [
    "print(\"First four sports:\", \", \".join(fav_sport[:4]))"
   ]
  },
  {
   "cell_type": "markdown",
   "metadata": {},
   "source": [
    "Access the only 5th element"
   ]
  },
  {
   "cell_type": "code",
   "execution_count": 75,
   "metadata": {},
   "outputs": [
    {
     "name": "stdout",
     "output_type": "stream",
     "text": [
      "basketball\n"
     ]
    }
   ],
   "source": [
    "print(fav_sport[4])"
   ]
  },
  {
   "cell_type": "markdown",
   "metadata": {},
   "source": [
    "Replace Hockey with Ice-Hockey\n"
   ]
  },
  {
   "cell_type": "code",
   "execution_count": 76,
   "metadata": {},
   "outputs": [
    {
     "name": "stdout",
     "output_type": "stream",
     "text": [
      "['football', 'tennis', 'volleyball', 'athletics', 'basketball', 'ice-hockey']\n"
     ]
    }
   ],
   "source": [
    "fav_sport[5] = 'ice-hockey'\n",
    "print(fav_sport)\n",
    "\n",
    "fav_sport_og = fav_sport.copy()\n"
   ]
  },
  {
   "cell_type": "markdown",
   "metadata": {},
   "source": [
    "Remove the 2nd element of your list\n"
   ]
  },
  {
   "cell_type": "code",
   "execution_count": 77,
   "metadata": {},
   "outputs": [
    {
     "name": "stdout",
     "output_type": "stream",
     "text": [
      "['football', 'volleyball', 'athletics', 'basketball', 'ice-hockey']\n"
     ]
    }
   ],
   "source": [
    "fav_sport.remove(fav_sport[1])\n",
    "print(fav_sport)"
   ]
  },
  {
   "cell_type": "markdown",
   "metadata": {},
   "source": [
    "Reverse the list\n"
   ]
  },
  {
   "cell_type": "code",
   "execution_count": 78,
   "metadata": {},
   "outputs": [
    {
     "name": "stdout",
     "output_type": "stream",
     "text": [
      "A reversed list of your favourite sports:  ice-hockey, basketball, athletics, volleyball, football\n"
     ]
    }
   ],
   "source": [
    "fav_sport.reverse()\n",
    "print('A reversed list of your favourite sports: ', ', '.join(fav_sport))"
   ]
  },
  {
   "cell_type": "markdown",
   "metadata": {},
   "source": [
    "Sort the list\n"
   ]
  },
  {
   "cell_type": "code",
   "execution_count": 79,
   "metadata": {},
   "outputs": [
    {
     "name": "stdout",
     "output_type": "stream",
     "text": [
      "An ordered list of your favourite sports:  athletics, basketball, football, ice-hockey, volleyball\n"
     ]
    }
   ],
   "source": [
    "fav_sport.sort()\n",
    "print('An ordered list of your favourite sports: ', ', '.join(fav_sport))"
   ]
  },
  {
   "cell_type": "markdown",
   "metadata": {},
   "source": [
    "Pop Ice-Hockey off the list\n"
   ]
  },
  {
   "cell_type": "code",
   "execution_count": 80,
   "metadata": {},
   "outputs": [
    {
     "name": "stdout",
     "output_type": "stream",
     "text": [
      "Lets remove the last sport in the list:  ice-hockey\n",
      "Here's your new list:  football, tennis, volleyball, athletics, basketball\n"
     ]
    }
   ],
   "source": [
    "last_sport = fav_sport_og.pop()\n",
    "print('Lets remove the last sport in the list: ', last_sport)\n",
    "print(\"Here's your new list: \", ', '.join(fav_sport_og))"
   ]
  },
  {
   "cell_type": "markdown",
   "metadata": {},
   "source": [
    "Clear all the elemenst from that list"
   ]
  },
  {
   "cell_type": "code",
   "execution_count": 81,
   "metadata": {},
   "outputs": [
    {
     "name": "stdout",
     "output_type": "stream",
     "text": [
      "Your list is now empty:  []\n"
     ]
    }
   ],
   "source": [
    "fav_sport_og.clear()\n",
    "print('Your list is now empty: ', fav_sport_og)"
   ]
  },
  {
   "cell_type": "markdown",
   "metadata": {},
   "source": [
    "#### **Exercise 6:**\n",
    "**Scenario:**\n",
    "You are managing inventory for a small grocery store, and you want to use tuples to represent the items in stock. Each tuple will contain information about a specific item, including its name, price, and quantity available.\n",
    "\n",
    "**Instructions:**\n",
    "\n",
    "* Create tuples for different items in stock, with each tuple containing information in the format (name, price, quantity).\n"
   ]
  },
  {
   "cell_type": "code",
   "execution_count": 101,
   "metadata": {},
   "outputs": [
    {
     "name": "stdout",
     "output_type": "stream",
     "text": [
      "Items in stock: \n",
      "1. Name: salmon, Price: £6.00, Quantity: 8\n",
      "2. Name: matcha, Price: £9.75, Quantity: 150\n",
      "3. Name: eggs, Price: £2.50, Quantity: 200\n",
      "4. Name: bread, Price: £1.50, Quantity: 100\n"
     ]
    }
   ],
   "source": [
    "item1 = ('salmon', 6.00, 8)\n",
    "item2 = ('matcha', 9.75, 150)\n",
    "item3 = ('eggs', 2.50, 200)\n",
    "item4 = ('bread', 1.50, 100)\n",
    "\n",
    "print('Items in stock: ')\n",
    "print(\"1. Name: {}, Price: £{}, Quantity: {}\".format(item1[0], \"{:.2f}\".format(item1[1]), item1[2]))\n",
    "print(\"2. Name: {}, Price: £{}, Quantity: {}\".format(item2[0], \"{:.2f}\".format(item2[1]), item2[2]))\n",
    "print(\"3. Name: {}, Price: £{}, Quantity: {}\".format(item3[0], \"{:.2f}\".format(item3[1]), item3[2])) \n",
    "print(\"4. Name: {}, Price: £{}, Quantity: {}\".format(item4[0], \"{:.2f}\".format(item4[1]), item4[2]))\n",
    "\n"
   ]
  },
  {
   "cell_type": "markdown",
   "metadata": {},
   "source": [
    "* Perform tuple operations to analyze the inventory, such as finding the total value of the inventory or identifying items that need restocking based on their quantity"
   ]
  },
  {
   "cell_type": "code",
   "execution_count": 102,
   "metadata": {},
   "outputs": [
    {
     "name": "stdout",
     "output_type": "stream",
     "text": [
      "The total inventory value is: £2160.50\n"
     ]
    }
   ],
   "source": [
    "inventory = [item1, item2, item3, item4]\n",
    "# print(inventory)\n",
    "\n",
    "total_value = 0\n",
    "for item in inventory:\n",
    "    name, price, quantity = item\n",
    "    item_value = price * quantity\n",
    "    total_value += item_value\n",
    "\n",
    "print(f\"The total inventory value is: £{total_value:.2f}\")"
   ]
  },
  {
   "cell_type": "code",
   "execution_count": 103,
   "metadata": {},
   "outputs": [
    {
     "name": "stdout",
     "output_type": "stream",
     "text": [
      "The following items need restocking: \n",
      "Name: salmon, Quantity: 8\n"
     ]
    }
   ],
   "source": [
    "items_to_restock = [item for item in inventory if item[2] < 20]\n",
    "if items_to_restock:\n",
    "    print(\"The following items need restocking: \")\n",
    "    for item in items_to_restock:\n",
    "        print(\"Name: {}, Quantity: {}\".format(item[0], item[2]))\n",
    "else:\n",
    "    print(\"No items need restocking.\")"
   ]
  },
  {
   "cell_type": "markdown",
   "metadata": {},
   "source": [
    "#### **Exercise 7:**\n",
    "**Scenario:**\n",
    "You are organizing a conference and need to keep track of attendees who have registered for the event. You want to use sets to manage the attendee data efficiently.\n",
    "\n",
    "**Instructions:**\n",
    "\n",
    "* Create sets representing different categories of attendees, such as regular attendees, VIP attendees, and speakers."
   ]
  },
  {
   "cell_type": "code",
   "execution_count": 2,
   "metadata": {},
   "outputs": [],
   "source": [
    "# Creating set of attendees\n",
    "regular_attendees = {\"James\", \"Walter\", \"Max\"}\n",
    "vip_attendees = {\"Jamie\", \"Baris\", \"Brendon\"}\n",
    "speakers = {\"Chelsea\", \"Katie\", \"Tiago\"}\n"
   ]
  },
  {
   "cell_type": "markdown",
   "metadata": {},
   "source": [
    "* Add attendees to the respective sets as they register for the event.\n"
   ]
  },
  {
   "cell_type": "code",
   "execution_count": 7,
   "metadata": {},
   "outputs": [
    {
     "name": "stdout",
     "output_type": "stream",
     "text": [
      "{'James', 'Walter', 'Max', 'Otis'} {'Jamie', 'Chelsea', 'Brendon', 'Baris'} {'Tiago', 'Katie', 'Mayowa', 'Chelsea'}\n"
     ]
    }
   ],
   "source": [
    "# Append attendees to each set\n",
    "regular_attendees.add(\"Otis\")\n",
    "vip_attendees.add(\"Chelsea\")\n",
    "speakers.add(\"Mayowa\")\n",
    "\n",
    "print(regular_attendees, vip_attendees, speakers)"
   ]
  },
  {
   "cell_type": "markdown",
   "metadata": {},
   "source": [
    "* Perform set operations to analyze the attendee data, such as finding common attendees between different categories or identifying unique attendees in each category"
   ]
  },
  {
   "cell_type": "code",
   "execution_count": 12,
   "metadata": {},
   "outputs": [
    {
     "name": "stdout",
     "output_type": "stream",
     "text": [
      "Common attendees:  set()\n",
      "Common VIP attendees:  {'Chelsea'}\n"
     ]
    }
   ],
   "source": [
    "common_vip_attendees = vip_attendees & speakers\n",
    "common_attendees = vip_attendees & regular_attendees\n",
    "print(\"Common attendees: \", common_attendees)\n",
    "print(\"Common VIP attendees: \", common_vip_attendees)"
   ]
  },
  {
   "cell_type": "code",
   "execution_count": 11,
   "metadata": {},
   "outputs": [
    {
     "name": "stdout",
     "output_type": "stream",
     "text": [
      "Unique regular attendees:  James, Walter, Max, Otis\n",
      "Unique VIP attendees:  Jamie, Baris, Brendon\n",
      "Unique speakers:  Tiago, Katie, Mayowa\n"
     ]
    }
   ],
   "source": [
    "unique_regular_attendees = regular_attendees.difference(vip_attendees, speakers)\n",
    "unique_vip_attendees = vip_attendees.difference(regular_attendees, speakers)\n",
    "unqiue_speakers = speakers.difference(regular_attendees, vip_attendees)\n",
    "\n",
    "print(\"Unique regular attendees: \", \", \".join(unique_regular_attendees))\n",
    "print(\"Unique VIP attendees: \", \", \".join(unique_vip_attendees))\n",
    "print(\"Unique speakers: \", \", \".join(unqiue_speakers))"
   ]
  },
  {
   "cell_type": "markdown",
   "metadata": {},
   "source": [
    "#### **Exercise 8:**\n",
    "**Scenario:**\n",
    "You are the manager of a retail store, and you need to keep track of the inventory of various products available in your store. You want to use dictionaries to efficiently manage the product data..\n",
    "\n",
    "**Instructions:**\n",
    "\n",
    "* Create a dictionary where the keys represent the product names, and the values represent the corresponding quantities of each product in stock.\n"
   ]
  },
  {
   "cell_type": "code",
   "execution_count": 29,
   "metadata": {},
   "outputs": [
    {
     "name": "stdout",
     "output_type": "stream",
     "text": [
      "{'jeans': 75, 'jumper': 50, 'tees': 100, 'slacks': 15}\n"
     ]
    }
   ],
   "source": [
    "inventory = {\n",
    "    'jeans': 75,\n",
    "    'jumper': 50,\n",
    "    'tees': 100,\n",
    "    'slacks': 15\n",
    "}\n",
    "\n",
    "print(inventory)"
   ]
  },
  {
   "cell_type": "markdown",
   "metadata": {},
   "source": [
    "* Update the inventory as new products arrive or existing products are sold.\n"
   ]
  },
  {
   "cell_type": "code",
   "execution_count": 30,
   "metadata": {},
   "outputs": [
    {
     "name": "stdout",
     "output_type": "stream",
     "text": [
      "{'jeans': 65, 'jumper': 50, 'tees': 100, 'slacks': 15, 'jacket': 30}\n"
     ]
    }
   ],
   "source": [
    "inventory['jacket'] = 30\n",
    "\n",
    "inventory['jeans'] -= 10\n",
    "\n",
    "print(inventory)"
   ]
  },
  {
   "cell_type": "markdown",
   "metadata": {},
   "source": [
    "* Perform dictionary operations to analyze the inventory data, such as finding the total quantity of products, identifying low-stock items, or retrieving product information."
   ]
  },
  {
   "cell_type": "code",
   "execution_count": 32,
   "metadata": {},
   "outputs": [
    {
     "name": "stdout",
     "output_type": "stream",
     "text": [
      "The total quantity of products are: 260\n",
      "Low stock items: slacks (15 stock left)\n",
      "Product information for jumper: 50\n"
     ]
    }
   ],
   "source": [
    "# Total quantity of products\n",
    "total_quantity = sum(inventory.values())\n",
    "print(f\"The total quantity of products are: {total_quantity}\")\n",
    "\n",
    "# Identify low stock items\n",
    "low_stock = {product: quantity for product, quantity in inventory.items() if quantity < 20}\n",
    "low_stock_items = ', '.join([f\"{product} ({quantity} stock left)\" for product, quantity in low_stock.items()])\n",
    "print(f\"Low stock items: {low_stock_items}\")\n",
    "\n",
    "# Product Information\n",
    "product_name = 'jumper'\n",
    "product_info = inventory.get(product_name)\n",
    "print(f\"Product information for {product_name}: {product_info}\")"
   ]
  }
 ],
 "metadata": {
  "kernelspec": {
   "display_name": "Python 3",
   "language": "python",
   "name": "python3"
  },
  "language_info": {
   "codemirror_mode": {
    "name": "ipython",
    "version": 3
   },
   "file_extension": ".py",
   "mimetype": "text/x-python",
   "name": "python",
   "nbconvert_exporter": "python",
   "pygments_lexer": "ipython3",
   "version": "3.13.1"
  }
 },
 "nbformat": 4,
 "nbformat_minor": 2
}
