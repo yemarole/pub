{
  "cells": [
    {
      "cell_type": "markdown",
      "metadata": {
        "id": "PqyvslAUVmYB"
      },
      "source": [
        "# AGENDA\n",
        "\n",
        "01 Defining and calling functions for reusable code\n",
        "\n",
        "02 Learning about Python's standard library and importing modules\n",
        "\n",
        "03 Introduction to lists, sets, and tuples\n",
        "\n"
      ]
    },
    {
      "cell_type": "markdown",
      "metadata": {
        "id": "uWr3TulQEp8g"
      },
      "source": [
        "# Introduction to Python Functions\n",
        "\n",
        "A function is simply a block of code that you can use over and over again, rather than writing it out multiple times. In Python, functions are defined using the def keyword."
      ]
    },
    {
      "cell_type": "markdown",
      "metadata": {
        "id": "sO0kUw9Ki5dE"
      },
      "source": [
        "**Built-in funtion**\n",
        "\n",
        "The functions that are pre-defined in Python and are always available for use without needing to import any module. Here are some examples of built-in functions in Python:\n",
        "\n",
        "* print(): Used to print output to the console.\n",
        "* len(): Returns the length of an object like a string, list, tuple, etc.\n",
        "* type(): Returns the type of an object.\n",
        "* input(): Reads input from the user via the console.\n",
        "\n",
        "To use a function in our program we must call it ​\n",
        "by it’s name (identifier) followed by a pair of parenthesis"
      ]
    },
    {
      "cell_type": "markdown",
      "metadata": {
        "id": "Xvg6dqo-E1I9"
      },
      "source": [
        "**Creating your own Function**\n",
        "\n",
        "1. Syntax of defining a funtion\n",
        "\n",
        "   **def function_name(parameters)**\n",
        "\n",
        "2. Example: Create a function to greet"
      ]
    },
    {
      "cell_type": "code",
      "execution_count": null,
      "metadata": {
        "id": "QTdXqsnybA-k"
      },
      "outputs": [],
      "source": [
        "#Creating a Function\n",
        "def greet():\n",
        "  print(\"Hello world\")\n",
        "\n",
        "# Call the function with a specific name\n",
        "greet()"
      ]
    },
    {
      "cell_type": "markdown",
      "metadata": {
        "id": "6KNyNN8_bUom"
      },
      "source": [
        "**Parameters and Arguments**\n",
        "\n",
        "1. A parameter is the variable listed inside the parentheses in the function definition\n",
        "\n",
        "2. Arguments are specified after the function name, inside the parentheses. You can add as many arguments as you want, just separate them with a comma.\n",
        "\n",
        "3. Example: Create function to greet a specific person"
      ]
    },
    {
      "cell_type": "code",
      "execution_count": null,
      "metadata": {
        "id": "B7Kyj6y1E4GL"
      },
      "outputs": [],
      "source": [
        "#Creating a Function\n",
        "def greet(name):\n",
        "    print('Hello, ' + name + '! How are you today?')\n",
        "\n",
        "# Call the function with a specific name\n",
        "greet('Saniya')"
      ]
    },
    {
      "cell_type": "markdown",
      "metadata": {
        "id": "S5krQB-LcHJi"
      },
      "source": [
        "**Number of Arguments**\n",
        "\n",
        "1. Calling funtions with mutiple arguments\n",
        "2. Example: Create function to greet people with their title and name"
      ]
    },
    {
      "cell_type": "code",
      "execution_count": null,
      "metadata": {
        "id": "KQZzV976UiJA"
      },
      "outputs": [],
      "source": [
        "def greet(Title,name):\n",
        "    print ('Hello,', Title + name +'!')\n",
        "\n",
        "\n",
        "# Call the function\n",
        "greet('Ms.','Saniya')\n",
        "greet('Mr.','Ahmed')"
      ]
    },
    {
      "cell_type": "markdown",
      "metadata": {
        "id": "iR_6RZYWgf1Z"
      },
      "source": [
        "**Arbitrary Arguments**\n",
        "\n",
        "1. Using *args, the function will receive a many arguments\n",
        "2. Example: Creating funtion to greet many people"
      ]
    },
    {
      "cell_type": "code",
      "execution_count": null,
      "metadata": {
        "id": "chwDTEYqU1ZD"
      },
      "outputs": [],
      "source": [
        "def greet_people(*args):\n",
        "    for name in args:\n",
        "        print(\"Hello,\", name + \"! Welcome to our session!\")\n",
        "\n",
        "greet_people(\"Aaron\", \"Dovile\", \"Saniya\", \"Suifan\")"
      ]
    },
    {
      "cell_type": "markdown",
      "metadata": {
        "id": "LAahOB-2lish"
      },
      "source": [
        "# Exercises\n",
        "1. Create a function that takes two parameters for :  name and age, and outputs a Birthday message “ Happy Birthday ‘name’ I hear you are ‘age’ today!”\n",
        "\n",
        "2. Create a function that takes two parameters: size and type of drink, and then outputs the drinks order.\n",
        "\n",
        "3. Create a cash machine program that takes a pin number and amount. Outputs cash is being dispensed if the pin is correct and there is enough money to withdraw. Finally outputs the new balance."
      ]
    },
    {
      "cell_type": "code",
      "execution_count": 11,
      "metadata": {},
      "outputs": [
        {
          "name": "stdout",
          "output_type": "stream",
          "text": [
            "Happy Birthday Saniya! I hear you are 25 today!\n"
          ]
        }
      ],
      "source": [
        "def message(name, age):\n",
        "    print(\"Happy Birthday\", name + \"!\", \"I hear you are\", age, \"today!\")\n",
        "\n",
        "message(\"Saniya\", 25)"
      ]
    },
    {
      "cell_type": "code",
      "execution_count": null,
      "metadata": {},
      "outputs": [],
      "source": []
    },
    {
      "cell_type": "markdown",
      "metadata": {
        "id": "2LsRnaKsmZ85"
      },
      "source": [
        "# Python's standard library"
      ]
    },
    {
      "cell_type": "markdown",
      "metadata": {
        "id": "iQLqXfhfmi6s"
      },
      "source": [
        "# What is a Library?\n",
        "\n",
        "Typically when someone asks you to think of a Library, you would imagine a building full of books. From this building, you can retrieve any book you wish, for your own purposes (probably studying in this context!)​\n",
        "\n",
        "​\n",
        "\n",
        "We can take this same logic and apply it to Libraries of a Software Engineering context."
      ]
    },
    {
      "cell_type": "markdown",
      "metadata": {
        "id": "lBNalNXZmwCt"
      },
      "source": [
        "# What is a Library in Python?\n",
        "In Python, a library is a collection of smaller \"books\" called “Modules”.​\n",
        "\n",
        "​\n",
        "\n",
        "Each module contains pieces of code that has been written by somebody else, and made available for you to use! This can be to solve a very niche problem, or generally making your quality of life easier.​\n",
        "\n",
        "​"
      ]
    },
    {
      "cell_type": "markdown",
      "metadata": {
        "id": "kQ-kLe2qnXrb"
      },
      "source": [
        "# Popular Libraries & Uses\n",
        "[Here](https://docs.python.org/3/library/index.html) is the official Python list of modules contained in the Python Standard Library\n",
        "\n",
        "Being a part of the PSL, these modules are pre-installed along with Python, and are immediately ready for us to use without having to install anything additional.\n",
        "\n",
        "Some of these you may recognise or have heard of before, such as NumPy, Pandas, or pygame. As you can see from the descriptions of these libraries, each one can serve a wildly different purpose.​\n",
        "\n",
        "​\n",
        "\n",
        "These libraries are what have allowed us to create things such as ChatGPT!​\n",
        "\n",
        "​"
      ]
    },
    {
      "cell_type": "markdown",
      "metadata": {
        "id": "BEyzH3X4obIz"
      },
      "source": [
        "# How do we import a Library?\n",
        "The syntax for importing a library is very basic, but also very important. All import statements must be made at the **TOP** of your code. (before the imported code is utilised)​\n",
        "\n",
        "​\n",
        "\n",
        "Lets try importing the “math” module from the Python standard library:"
      ]
    },
    {
      "cell_type": "code",
      "execution_count": null,
      "metadata": {
        "id": "M0a5V36tn4cf"
      },
      "outputs": [],
      "source": [
        "import math"
      ]
    },
    {
      "cell_type": "markdown",
      "metadata": {
        "id": "UfpFjYkao2H8"
      },
      "source": [
        "Inside the math module, you will find that many methods have already been defined. (check [here](https://www.w3schools.com/python/module_math.asp#math_constants))​\n",
        "\n",
        "\n",
        "\n",
        "One of these methods is the value for   (pi). We know this as 3.14​\n",
        "\n",
        "We can verify by calling this method from the math module, and printing the value."
      ]
    },
    {
      "cell_type": "markdown",
      "metadata": {
        "id": "rXZhdZCJpV8s"
      },
      "source": [
        "To access the value of any method in any module, we must write it as​\n",
        "\n",
        "**module_name.method_name**​\n",
        "\n",
        "\n",
        "Because we have assigned this value to the variable “x”, we can now utilise this math.pi method without having to write “math.pi” every time.​\n",
        "\n",
        "\n",
        "This is easily proved, as we can now print the value of “x”"
      ]
    },
    {
      "cell_type": "code",
      "execution_count": null,
      "metadata": {
        "id": "8To5i9JNpftC"
      },
      "outputs": [],
      "source": [
        "import math\n",
        "\n",
        "x = math.pi\n",
        "\n",
        "print(x)"
      ]
    },
    {
      "cell_type": "markdown",
      "metadata": {
        "id": "CJvrfTpdpwDx"
      },
      "source": [
        "An alternative way of utilising an imported module is to assign it a new **alias. ​**\n",
        "\n",
        "\n",
        "For example, here I have imported the math module and renamed it to simply “m”.​\n",
        "\n",
        "This change is reflected in the code on line 3, and attempting to call “math”.method after it has been assigned a new alias, will **NOT** work"
      ]
    },
    {
      "cell_type": "code",
      "execution_count": null,
      "metadata": {
        "id": "T8mliN2Qp-UH"
      },
      "outputs": [],
      "source": [
        "import math as m\n",
        "\n",
        "x = m.pi\n",
        "\n",
        "print(x)"
      ]
    },
    {
      "cell_type": "code",
      "execution_count": null,
      "metadata": {
        "id": "PonPx_CWqXde"
      },
      "outputs": [],
      "source": [
        "# Calculating square root and power\n",
        "print(m.sqrt(16))  # Square root of 16\n",
        "print(m.pow(2, 3))  # 2 raised to the power 3"
      ]
    },
    {
      "cell_type": "markdown",
      "metadata": {
        "id": "2QKDrRDGqQx7"
      },
      "source": [
        "# Group Exercises -1 Roll The Dice\n",
        "1. Have a look at the methods available for the random module [Click here](https://www.w3schools.com/python/module_random.asp)\n",
        "\n",
        "2. ​Using the random module, can you write a program that rolls a dice.\n",
        "\n",
        "3. If the dice rolls a 6, print “Congrats! Move 2 spaces!”. If the dice doesn’t roll a 6, print “Try again!”"
      ]
    },
    {
      "cell_type": "markdown",
      "metadata": {
        "id": "tKIYUmbK5L5d"
      },
      "source": [
        "# What are lists?\n",
        "* Lists are used to store multiple items in a single variable\n",
        "* Lists in Python are ordered, mutable (changeable), and allow duplicate elements.\n",
        "* They are created using square brackets [].\n"
      ]
    },
    {
      "cell_type": "code",
      "execution_count": 12,
      "metadata": {
        "id": "zxxy4aVf5H_9"
      },
      "outputs": [
        {
          "name": "stdout",
          "output_type": "stream",
          "text": [
            "[1, 2, 3, 'Python', 'is', 'fun']\n"
          ]
        }
      ],
      "source": [
        "# create  a list with your fav colours\n",
        "Fav_colours = ['orange','red','green' ]\n",
        "print (Fav_colours)"
      ]
    },
    {
      "cell_type": "code",
      "execution_count": 13,
      "metadata": {
        "id": "vKzFRoKc8wHV"
      },
      "outputs": [
        {
          "name": "stdout",
          "output_type": "stream",
          "text": [
            "[1, 2, 3, 'Python', 'is', 'fun', '!']\n"
          ]
        }
      ],
      "source": [
        "# add purple to it\n",
        "Fav_colours.append('purple')\n",
        "print('my list of:',Fav_colours)"
      ]
    },
    {
      "cell_type": "markdown",
      "metadata": {
        "id": "fNl_c85P9-7n"
      },
      "source": [
        "# Basic list operations"
      ]
    },
    {
      "cell_type": "code",
      "execution_count": null,
      "metadata": {
        "id": "vKzFRoKc8wHV"
      },
      "outputs": [],
      "source": [
        "# Creating a list\n",
        "fruits = [\"apple\", \"banana\", \"cherry\"]\n",
        "print(\"Original list:\", fruits)"
      ]
    },
    {
      "cell_type": "code",
      "execution_count": null,
      "metadata": {
        "id": "Zhz9WmIt9xBe"
      },
      "outputs": [],
      "source": [
        "# create  a list with your fav colours\n",
        "Fav_colours = ['orange','red','green' ]\n",
        "print (Fav_colours)"
      ]
    },
    {
      "cell_type": "code",
      "execution_count": null,
      "metadata": {
        "id": "G5c2S26v97XZ"
      },
      "outputs": [],
      "source": [
        "# Accessing elements\n",
        "print(\"First fruit:\", fruits[0])\n",
        "print(\"last fruit:\", fruits[3])"
      ]
    },
    {
      "cell_type": "code",
      "execution_count": 23,
      "metadata": {
        "id": "Edkh3KPi-EvV"
      },
      "outputs": [
        {
          "name": "stdout",
          "output_type": "stream",
          "text": [
            "After append: ['blueberry', 'banana', 'cherry', 'orange']\n"
          ]
        }
      ],
      "source": [
        "# Slicing a list\n",
        "print(\"First two fruits:\", ', ' .join(fruits[0:2]))"
      ]
    },
    {
      "cell_type": "code",
      "execution_count": null,
      "metadata": {
        "id": "m89_dcVC-DAH"
      },
      "outputs": [],
      "source": [
        "# Changing elements\n",
        "fruits[0] = \"blueberry\"\n",
        "print(\"After change:\", fruits)"
      ]
    },
    {
      "cell_type": "code",
      "execution_count": null,
      "metadata": {
        "id": "Edkh3KPi-EvV"
      },
      "outputs": [],
      "source": [
        "# Removing elements\n",
        "fruits.remove(\"orange\")\n",
        "print(\"After removal:\", fruits)"
      ]
    },
    {
      "cell_type": "code",
      "execution_count": null,
      "metadata": {
        "id": "WYNVVH8h-GPg"
      },
      "outputs": [],
      "source": [
        "print(len(fruits))"
      ]
    },
    {
      "cell_type": "markdown",
      "metadata": {
        "id": "cTWFoZhB_IG3"
      },
      "source": [
        "# List slicing"
      ]
    },
    {
      "cell_type": "code",
      "execution_count": null,
      "metadata": {
        "id": "xXxSvhvw-KAV"
      },
      "outputs": [],
      "source": [
        "# Slicing to get sublists\n",
        "numbers = [1, 2, 3, 4, 5, 6, 7, 8, 9]\n",
        "print(\"All numbers:\", numbers)"
      ]
    },
    {
      "cell_type": "code",
      "execution_count": null,
      "metadata": {
        "id": "QnxbOToX-LhT"
      },
      "outputs": [],
      "source": [
        "# Slicing to get sublists\n",
        "numbers = [1, 2, 3, 4, 5, 6, 7, 8, 9]\n",
        "print(\"All numbers:\", numbers)"
      ]
    },
    {
      "cell_type": "code",
      "execution_count": 33,
      "metadata": {},
      "outputs": [
        {
          "name": "stdout",
          "output_type": "stream",
          "text": [
            "4\n"
          ]
        }
      ],
      "source": [
        "# Slice from the sixth element to the end\n",
        "print(\"Slice from 6:\", numbers[5:])"
      ]
    },
    {
      "cell_type": "code",
      "execution_count": 36,
      "metadata": {
        "id": "o-QViwNG_LE3"
      },
      "outputs": [
        {
          "name": "stdout",
          "output_type": "stream",
          "text": [
            "Slice 3-5: [3, 4, 5]\n"
          ]
        }
      ],
      "source": [
        "# Slice with a step\n",
        "print(\"Every other number:\", numbers[::3])"
      ]
    },
    {
      "cell_type": "markdown",
      "metadata": {
        "id": "MN8GT4Sf_lbM"
      },
      "source": [
        "# List Comprehension"
      ]
    },
    {
      "cell_type": "code",
      "execution_count": null,
      "metadata": {
        "id": "LXptiBOy_FrU"
      },
      "outputs": [],
      "source": [
        "numbers = [1, 2, 3, 4, 5]\n",
        "# Using list comprehensions\n",
        "squared_numbers = [i**2 for i in numbers]\n",
        "print(squared_numbers)"
      ]
    },
    {
      "cell_type": "code",
      "execution_count": null,
      "metadata": {
        "id": "o-QViwNG_LE3"
      },
      "outputs": [],
      "source": [
        "# Creating a new list by manipulating each item in the original list\n",
        "squared = [x**2 for x in numbers]\n",
        "print(\"Squared numbers:\", squared)"
      ]
    },
    {
      "cell_type": "code",
      "execution_count": null,
      "metadata": {
        "id": "4Hgvy05X_Mby"
      },
      "outputs": [],
      "source": [
        "# Slice from start to the fourth element\n",
        "print(\"Slice to 9:\", numbers[:9])"
      ]
    },
    {
      "cell_type": "code",
      "execution_count": null,
      "metadata": {
        "id": "l6h0PFPu_QOb"
      },
      "outputs": [],
      "source": [
        "# Creating a list based on a conditional test\n",
        "odd_numbers = [x for x in numbers if not x % 2 == 0]\n",
        "print(\"odd numbers:\", odd_numbers)"
      ]
    },
    {
      "cell_type": "code",
      "execution_count": null,
      "metadata": {
        "id": "mKDdXU6I_RS4"
      },
      "outputs": [],
      "source": [
        "# Creating a new list by manipulating each item in the original list\n",
        "squared = [x**2 for x in numbers]\n",
        "print(\"Squared numbers:\", squared)"
      ]
    },
    {
      "cell_type": "code",
      "execution_count": 44,
      "metadata": {
        "id": "YaKDUcvD_yOj"
      },
      "outputs": [
        {
          "name": "stdout",
          "output_type": "stream",
          "text": [
            "Even numbers: [2, 4]\n"
          ]
        }
      ],
      "source": [
        "# Creating a list based on a conditional test\n",
        "even_numbers = [x for x in numbers if x % 2 == 0]\n",
        "print(\"Even numbers:\", even_numbers)"
      ]
    },
    {
      "cell_type": "code",
      "execution_count": null,
      "metadata": {
        "id": "sKlbmVG-_u9j"
      },
      "outputs": [],
      "source": [
        "# Creating a list based on a conditional test\n",
        "odd_numbers = [x for x in numbers if not x % 2 == 0]\n",
        "print(\"odd numbers:\", odd_numbers)"
      ]
    },
    {
      "cell_type": "markdown",
      "metadata": {
        "id": "U9sm9pALAORD"
      },
      "source": [
        "# Other common list methods"
      ]
    },
    {
      "cell_type": "code",
      "execution_count": null,
      "metadata": {
        "id": "mXSqH7HQAUHt"
      },
      "outputs": [],
      "source": [
        "# Length of the list\n",
        "print(\"Number of fruits:\",len(fruits))"
      ]
    },
    {
      "cell_type": "code",
      "execution_count": 48,
      "metadata": {},
      "outputs": [
        {
          "name": "stdout",
          "output_type": "stream",
          "text": [
            "['blueberry', 'banana', 'cherry', 'orange']\n"
          ]
        }
      ],
      "source": [
        "print(fruits)"
      ]
    },
    {
      "cell_type": "code",
      "execution_count": null,
      "metadata": {
        "id": "w_8eFTdUAdBX"
      },
      "outputs": [],
      "source": [
        "# Inserting an element at a specific position\n",
        "#name_list.insert(index_num , insert_value)\n",
        "fruits.insert(1, \"mango\")\n",
        "print(\"After insert:\", fruits)"
      ]
    },
    {
      "cell_type": "code",
      "execution_count": null,
      "metadata": {
        "id": "g-7Sb9ZDAi85"
      },
      "outputs": [],
      "source": [
        "# Reversing the list\n",
        "fruits.reverse()\n",
        "print(\"Reversed list:\", fruits)"
      ]
    },
    {
      "cell_type": "code",
      "execution_count": null,
      "metadata": {
        "id": "k39oruIHAkiY"
      },
      "outputs": [],
      "source": [
        "# Sorting the list\n",
        "fruits.sort()\n",
        "print(\"Sorted list:\", fruits)"
      ]
    },
    {
      "cell_type": "code",
      "execution_count": null,
      "metadata": {
        "id": "X6NS79neAmCL"
      },
      "outputs": [],
      "source": [
        "# Popping the last item from the list\n",
        "last_fruit = fruits.pop()\n",
        "print(\"Popped fruit:\", last_fruit)\n",
        "print(\"After pop:\", fruits)"
      ]
    },
    {
      "cell_type": "code",
      "execution_count": null,
      "metadata": {
        "id": "qZb3Q4eSAnHz"
      },
      "outputs": [],
      "source": [
        "# Clearing all elements from the list\n",
        "fruits.clear()\n",
        "print(\"After clear:\", fruits)\n",
        "print(fruits)"
      ]
    },
    {
      "cell_type": "markdown",
      "metadata": {
        "id": "qoADXehR-Ps6"
      },
      "source": [
        "# Excercise\n",
        "\n",
        "*  Create a list of your fav sport game.\n",
        "*  Add 'Hockey' to your list\n",
        "* Access the first 4 elements\n",
        "* Access the only 5th element\n",
        "* Replace Hockey with Ice-Hockey\n",
        "* Remove the 2nd element of your list\n",
        "* Reverse the list\n",
        "* Sort the list\n",
        "* Pop Ice-Hockey off the list\n",
        "* Clear all the elemenst from that list\n"
      ]
    },
    {
      "cell_type": "markdown",
      "metadata": {
        "id": "spGYPTiDBGEL"
      },
      "source": [
        "# Tuples\n",
        "\n",
        "1. A tuple is an ordered collection of elements that can be of different data types.\n",
        "2.  It is immutable, meaning its elements cannot be modified during runtime once the tuple is created.\n",
        "3. They are created using parentheses `()`."
      ]
    },
    {
      "cell_type": "markdown",
      "metadata": {
        "id": "4FPCJ7oJBogx"
      },
      "source": [
        "**Discussion:**\n",
        "\n",
        "What kinds of projects or scenarios can you think of where a Tuple might be used instead of a standard list?l"
      ]
    },
    {
      "cell_type": "code",
      "execution_count": null,
      "metadata": {
        "id": "XRpRG73OB_cK"
      },
      "outputs": [],
      "source": [
        "my_tuple = (1, 2, 3, 'Python')\n",
        "print(my_tuple)"
      ]
    },
    {
      "cell_type": "code",
      "execution_count": null,
      "metadata": {
        "id": "OPE_0cGuCKJE"
      },
      "outputs": [],
      "source": [
        "# Trying to change a tuple will result in an error\n",
        "my_tuple[0] = 'New Value'"
      ]
    },
    {
      "cell_type": "markdown",
      "metadata": {
        "id": "6HU_ZZs4CSwY"
      },
      "source": [
        "# Creating and accessing tuples"
      ]
    },
    {
      "cell_type": "code",
      "execution_count": null,
      "metadata": {
        "id": "_O2sETzeCRQV"
      },
      "outputs": [],
      "source": [
        "# Creating a tuple\n",
        "fruits = (\"apple\", \"banana\", \"cherry\")\n",
        "print(\"Original tuple:\", fruits)"
      ]
    },
    {
      "cell_type": "code",
      "execution_count": null,
      "metadata": {
        "id": "R7b05JBZCU3x"
      },
      "outputs": [],
      "source": [
        "# Accessing tuple element\n",
        "print(\"First fruit:\", fruits[0])\n",
        "print(\"last fruit:\", fruits[2])"
      ]
    },
    {
      "cell_type": "code",
      "execution_count": null,
      "metadata": {
        "id": "Se5l_W3WCWBj"
      },
      "outputs": [],
      "source": [
        "# Tuples can contain mixed data types\n",
        "mixed_tuple = (\"apple\", 2, 3.14)\n",
        "print(\"Mixed tuple:\", mixed_tuple)"
      ]
    },
    {
      "cell_type": "markdown",
      "metadata": {
        "id": "y2RHU-M9CcFC"
      },
      "source": [
        "# Tuple slicing"
      ]
    },
    {
      "cell_type": "code",
      "execution_count": null,
      "metadata": {
        "id": "yB4tyWUaCa5L"
      },
      "outputs": [],
      "source": [
        "# Slicing a tuple\n",
        "numbers = (0, 1, 2, 3, 4, 5, 6, 7, 8, 9)\n",
        "print(\"All numbers:\", numbers)"
      ]
    },
    {
      "cell_type": "code",
      "execution_count": null,
      "metadata": {
        "id": "k9iOp0WFChK5"
      },
      "outputs": [],
      "source": [
        "# Slice from the third to the fifth element\n",
        "print(\"Slice 3-5:\", numbers[2:5])"
      ]
    },
    {
      "cell_type": "code",
      "execution_count": null,
      "metadata": {
        "id": "64--UUK9Cict"
      },
      "outputs": [],
      "source": [
        "# Slice from start to the fourth element\n",
        "print(\"Slice to 4:\", numbers[:7])"
      ]
    },
    {
      "cell_type": "code",
      "execution_count": null,
      "metadata": {
        "id": "9HapuizzCjdU"
      },
      "outputs": [],
      "source": [
        "# Slice from the sixth element to the end\n",
        "print(\"Slice from 6:\", numbers[5:])"
      ]
    },
    {
      "cell_type": "code",
      "execution_count": null,
      "metadata": {
        "id": "4LofhOpRCkoO"
      },
      "outputs": [],
      "source": [
        "# Slice with a step\n",
        "print(\"Every other number:\", numbers[0:9:2])"
      ]
    },
    {
      "cell_type": "markdown",
      "metadata": {
        "id": "J69l5nFsCmIw"
      },
      "source": [
        "# Other tuples common operations"
      ]
    },
    {
      "cell_type": "code",
      "execution_count": null,
      "metadata": {
        "id": "g5vnlgfGCn61"
      },
      "outputs": [],
      "source": [
        "# Length of the tuple\n",
        "print(\"Number of fruits:\", len(fruits))"
      ]
    },
    {
      "cell_type": "code",
      "execution_count": null,
      "metadata": {
        "id": "NAEEMu4WCskq"
      },
      "outputs": [],
      "source": [
        "# Concatenating tuples\n",
        "more_fruits = (\"orange\", \"pear\",\"apples\")\n",
        "all_fruits = fruits + more_fruits\n",
        "print(\"All fruits:\", all_fruits)"
      ]
    },
    {
      "cell_type": "code",
      "execution_count": null,
      "metadata": {
        "id": "XKOp8TxeCvLF"
      },
      "outputs": [],
      "source": [
        "# Check if an element exists in a tuple\n",
        "if \"pear\" in fruits:\n",
        "    print(\"pear is in the tuple\")\n",
        "else:\n",
        "    print('pear is not in the tuple')"
      ]
    },
    {
      "cell_type": "code",
      "execution_count": null,
      "metadata": {
        "id": "2tubzoGvCwXF"
      },
      "outputs": [],
      "source": [
        "# Count the occurrences of an element\n",
        "print(\"Number of apples:\", all_fruits.count(\"apples\"))"
      ]
    },
    {
      "cell_type": "code",
      "execution_count": null,
      "metadata": {
        "id": "RrJ2Md_GCxp4"
      },
      "outputs": [],
      "source": [
        "# Find the index of an element\n",
        "print(\"Index of cherry:\", all_fruits.index(\"cherry\"))"
      ]
    },
    {
      "cell_type": "markdown",
      "metadata": {
        "id": "bLY1XA1UC3zN"
      },
      "source": [
        "# Tuples in loops"
      ]
    },
    {
      "cell_type": "code",
      "execution_count": null,
      "metadata": {
        "id": "EVf3Q8C-C6MJ"
      },
      "outputs": [],
      "source": [
        "# Iterating over a tuple\n",
        "for fruit in all_fruits:\n",
        "    print(fruit)"
      ]
    },
    {
      "cell_type": "code",
      "execution_count": null,
      "metadata": {
        "id": "yEeqvfPLDaJv"
      },
      "outputs": [],
      "source": [
        "# Tuple comprehension does not exist, but we can create a tuple from a list comprehension\n",
        "squared_tuple = tuple(x**2 for x in numbers)\n",
        "print(\"Squared tuple:\", squared_tuple)"
      ]
    },
    {
      "cell_type": "markdown",
      "metadata": {
        "id": "JPBZhgFWD2fR"
      },
      "source": [
        "# Excercise\n",
        "\n",
        "**Scenario:**\n",
        "You are managing inventory for a small grocery store, and you want to use tuples to represent the items in stock. Each tuple will contain information about a specific item, including its name, price, and quantity available.\n",
        "\n",
        "**Instructions:**\n",
        "\n",
        "* Create tuples for different items in stock, with each tuple containing information in the format (name, price, quantity).\n",
        "* Perform tuple operations to analyze the inventory, such as finding the total value of the inventory or identifying items that need restocking based on their quantity"
      ]
    },
    {
      "cell_type": "markdown",
      "metadata": {
        "id": "fMM7KMyXE-LW"
      },
      "source": [
        "# Sets\n",
        "\n",
        "1. Sets are unordered, mutable, and do not allow duplicate elements.\n",
        "2. They are created using curly braces `{}`."
      ]
    },
    {
      "cell_type": "code",
      "execution_count": null,
      "metadata": {
        "id": "i4fkZ6tUD2DU"
      },
      "outputs": [],
      "source": [
        "my_set = {1, 2, 3, 'Python'}\n",
        "print(my_set)\n"
      ]
    },
    {
      "cell_type": "markdown",
      "metadata": {
        "id": "-rTIqIHPFbDV"
      },
      "source": [
        "# Creating and modifying sets"
      ]
    },
    {
      "cell_type": "code",
      "execution_count": null,
      "metadata": {
        "id": "_DVvGN7qFVAB"
      },
      "outputs": [],
      "source": [
        "fruits = {'apple', 'banana', 'cherry', 'apple', 'cherry'}\n",
        "print(fruits)"
      ]
    },
    {
      "cell_type": "code",
      "execution_count": null,
      "metadata": {
        "id": "wDYiAP0UFska"
      },
      "outputs": [],
      "source": [
        "# Adding an element to the set\n",
        "fruits.add(\"orange\")\n",
        "print(\"After adding:\", fruits)"
      ]
    },
    {
      "cell_type": "code",
      "execution_count": null,
      "metadata": {
        "id": "E9tYAUOSFq98"
      },
      "outputs": [],
      "source": [
        "# Removing duplicates from a list\n",
        "unique_fruits = set(['apple', 'banana', 'apple', 'cherry',])\n",
        "print(unique_fruits)"
      ]
    },
    {
      "cell_type": "code",
      "execution_count": null,
      "metadata": {
        "id": "Odrqa11pFv5C"
      },
      "outputs": [],
      "source": [
        "# Sets automatically remove duplicates\n",
        "fruits.add(\"apple\")\n",
        "print(\"After trying to add another apple:\", fruits)"
      ]
    },
    {
      "cell_type": "code",
      "execution_count": null,
      "metadata": {
        "id": "dwAKBHlMFxWz"
      },
      "outputs": [],
      "source": [
        "# Creating a set from a list (to remove duplicates)\n",
        "numbers_list = [1, 2, 2, 3, 4, 4, 4, 5]\n",
        "unique_numbers = set(numbers_list)\n",
        "print(\"Unique numbers:\", unique_numbers)"
      ]
    },
    {
      "cell_type": "markdown",
      "metadata": {
        "id": "Vl5XXqB1F0NW"
      },
      "source": [
        "# Set operations"
      ]
    },
    {
      "cell_type": "code",
      "execution_count": null,
      "metadata": {
        "id": "GLSNiamfFz88"
      },
      "outputs": [],
      "source": [
        "# Other sets for demonstration\n",
        "vegetables = {\"carrot\", \"potato\", \"onion\"}"
      ]
    },
    {
      "cell_type": "code",
      "execution_count": null,
      "metadata": {
        "id": "7oWt8a5fFzBa"
      },
      "outputs": [],
      "source": [
        "# Union of two sets\n",
        "all_items = fruits.union(vegetables)\n",
        "print(\"Union:\", all_items)"
      ]
    },
    {
      "cell_type": "code",
      "execution_count": null,
      "metadata": {
        "id": "1w8oCoycF7EL"
      },
      "outputs": [],
      "source": [
        "# Intersection of sets\n",
        "my_set = fruits.intersection(vegetables)\n",
        "print(\"My set is :\", my_set)"
      ]
    },
    {
      "cell_type": "code",
      "execution_count": null,
      "metadata": {
        "id": "HUheQR9YF8bE"
      },
      "outputs": [],
      "source": [
        "fruits = {\"apple\", \"banana\", \"cherry\"}"
      ]
    },
    {
      "cell_type": "code",
      "execution_count": null,
      "metadata": {
        "id": "6NmXhVKkGbhV"
      },
      "outputs": [],
      "source": [
        "# Difference between two sets\n",
        "different_elements = fruits.difference(vegetables)\n",
        "print(\"Different elements in my set:\", different_elements)"
      ]
    },
    {
      "cell_type": "markdown",
      "metadata": {
        "id": "R7uhQREZGvKz"
      },
      "source": [
        "Iterating over sets and removing elements"
      ]
    },
    {
      "cell_type": "code",
      "execution_count": null,
      "metadata": {
        "id": "ulSaUDl0Gxw2"
      },
      "outputs": [],
      "source": [
        "# Iterating over a set\n",
        "fruits_2 = {\"apple\", \"kiwi\", \"banana\",}\n",
        "for item in fruits_2:\n",
        "    print(item)"
      ]
    },
    {
      "cell_type": "code",
      "execution_count": null,
      "metadata": {
        "id": "9vliCdNdG2Ke"
      },
      "outputs": [],
      "source": [
        "# Removing elements from a set\n",
        "fruits.remove(\"banana\")\n",
        "print(\"After removal:\", fruits)"
      ]
    },
    {
      "cell_type": "code",
      "execution_count": null,
      "metadata": {
        "id": "7nO3Ya9WG4IN"
      },
      "outputs": [],
      "source": [
        "# Discarding an element (no error if the element is not found)\n",
        "fruits.discard(\"pineapple\")\n",
        "print(\"After discarding pineapple:\", fruits)"
      ]
    },
    {
      "cell_type": "code",
      "execution_count": null,
      "metadata": {
        "id": "DYECgBzeG5pc"
      },
      "outputs": [],
      "source": [
        "# Clearing all elements from the set\n",
        "fruits_2.clear()\n",
        "print(\"After clear:\", fruits_2)"
      ]
    },
    {
      "cell_type": "markdown",
      "metadata": {
        "id": "3QXjANivIJIU"
      },
      "source": [
        "# Excercise\n",
        "\n",
        "**Scenario:**\n",
        "You are organizing a conference and need to keep track of attendees who have registered for the event. You want to use sets to manage the attendee data efficiently.\n",
        "\n",
        "**Instructions:**\n",
        "\n",
        "* Create sets representing different categories of attendees, such as regular attendees, VIP attendees, and speakers.\n",
        "* Add attendees to the respective sets as they register for the event.\n",
        "* Perform set operations to analyze the attendee data, such as finding common attendees between different categories or identifying unique attendees in each category"
      ]
    },
    {
      "cell_type": "markdown",
      "metadata": {
        "id": "YcFHdSb1ILz_"
      },
      "source": [
        "# Dictionaries\n",
        "\n",
        "\n",
        "1.   A dictionary is a type of data structure that allows us to store an unordered collection of data into key:value pairs.\n",
        "2.   Dictionaries are mutable, which allows us to add, modify, or delete elements as needed.\n",
        "3. Dictionaries are indicated by using {curly_braces}​\n",
        "4. Syntax: ​\n",
        "**my_dict = {\n",
        "\"key1\": value1,\n",
        "\"key2\": value2,​\n",
        "}**\n"
      ]
    },
    {
      "cell_type": "markdown",
      "metadata": {
        "id": "mGQBbVwFIZ0X"
      },
      "source": [
        "# Creating a Dictionary"
      ]
    },
    {
      "cell_type": "code",
      "execution_count": null,
      "metadata": {
        "id": "T7mEdEBZIIqv"
      },
      "outputs": [],
      "source": [
        "my_dict={\n",
        "  \"brand\": \"Rolls-Royce\",\n",
        "  \"model\": \"Phantom\",\n",
        "  \"year\": 2018\n",
        "}\n",
        "print(my_dict)"
      ]
    },
    {
      "cell_type": "code",
      "execution_count": null,
      "metadata": {
        "id": "4QNLJWwPJ5Na"
      },
      "outputs": [],
      "source": [
        "print(len(my_dict))"
      ]
    },
    {
      "cell_type": "code",
      "execution_count": null,
      "metadata": {
        "id": "0yyH42GHKGqI"
      },
      "outputs": [],
      "source": [
        "print(type(my_dict))"
      ]
    },
    {
      "cell_type": "markdown",
      "metadata": {
        "id": "xolSsPylKqyb"
      },
      "source": [
        "# The dict() Constructor"
      ]
    },
    {
      "cell_type": "code",
      "execution_count": null,
      "metadata": {
        "id": "HFdOx6HlKQxG"
      },
      "outputs": [],
      "source": [
        "employee = dict(name = \"Ken\", age =25, country = \"United Kingdom\")\n",
        "print(employee)"
      ]
    },
    {
      "cell_type": "markdown",
      "metadata": {
        "id": "OOjvxosNMYxz"
      },
      "source": [
        "# Excercise\n",
        "\n",
        "**Scenario:**\n",
        "You are the manager of a retail store, and you need to keep track of the inventory of various products available in your store. You want to use dictionaries to efficiently manage the product data..\n",
        "\n",
        "**Instructions:**\n",
        "\n",
        "* Create a dictionary where the keys represent the product names, and the values represent the corresponding quantities of each product in stock.\n",
        "* Update the inventory as new products arrive or existing products are sold.\n",
        "* Perform dictionary operations to analyze the inventory data, such as finding the total quantity of products, identifying low-stock items, or retrieving product information."
      ]
    },
    {
      "cell_type": "markdown",
      "metadata": {
        "id": "4RKOqK_9Mtbc"
      },
      "source": [
        "# Recap\n",
        "\n",
        "* Learn the syntax for defining functions\n",
        "* Practice calling functions with various parameters\n",
        "* PExplore Python's standard library​\n",
        "* Understand the concept of modules\n",
        "* Learn how to import modules into Python scripts\n",
        "* Understand the differences between lists, sets, and tuples\n",
        "* Learn common operations and methods for each data structure\n",
        "* Practice using lists, sets, and tuples in Python programs"
      ]
    }
  ],
  "metadata": {
    "colab": {
      "private_outputs": true,
      "provenance": []
    },
    "kernelspec": {
      "display_name": "Python 3",
      "name": "python3"
    },
    "language_info": {
      "name": "python",
      "version": "3.13.1"
    }
  },
  "nbformat": 4,
  "nbformat_minor": 0
}
