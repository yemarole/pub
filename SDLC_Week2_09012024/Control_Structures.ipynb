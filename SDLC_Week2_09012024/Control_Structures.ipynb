{
  "nbformat": 4,
  "nbformat_minor": 0,
  "metadata": {
    "colab": {
      "private_outputs": true,
      "provenance": []
    },
    "kernelspec": {
      "name": "python3",
      "display_name": "Python 3"
    },
    "language_info": {
      "name": "python"
    }
  },
  "cells": [
    {
      "cell_type": "markdown",
      "source": [
        "# AGENDA\n",
        "\n",
        "01 Exploring Conditional Statements\n",
        "\n",
        "02 Loops for Iteration\n",
        "\n",
        "03 Building a number guessing game\n",
        "\n",
        "04 Introduction to Version Control wiht VS Code\n"
      ],
      "metadata": {
        "id": "7ajjum0XWsX5"
      }
    },
    {
      "cell_type": "markdown",
      "source": [
        "# Introduction to Conditional Statements"
      ],
      "metadata": {
        "id": "DDfihWERSwnY"
      }
    },
    {
      "cell_type": "markdown",
      "source": [],
      "metadata": {
        "id": "gDclyhd4WsED"
      }
    },
    {
      "cell_type": "markdown",
      "source": [
        "#LOGICAL CONDITIONS\n",
        "\n",
        "* Equals: a == b\n",
        "* Not Equals: a != b\n",
        "* Less than: a < b\n",
        "* Less than or equal to: a <= b\n",
        "* Greater than: a > b\n",
        "* Greater than or equal to: a >= b"
      ],
      "metadata": {
        "id": "GQxSMxH5UlYV"
      }
    },
    {
      "cell_type": "markdown",
      "source": [
        "# **if Statements**\n",
        "\n",
        "Basic syntax and use cases.\n",
        "\n",
        "Example: Check if a number is positive.\n"
      ],
      "metadata": {
        "id": "KRqSFvWlTAZZ"
      }
    },
    {
      "cell_type": "code",
      "source": [
        "number = -1\n",
        "if number == 0:\n",
        "  print('Number is positive')# Change the number values and observe the output"
      ],
      "metadata": {
        "id": "QtqRwm8DTANL"
      },
      "execution_count": null,
      "outputs": []
    },
    {
      "cell_type": "code",
      "source": [
        "a = 15\n",
        "b = 80\n",
        "if b > a:\n",
        "  print(\"b is greater than a\")# Change the number values and observe the output"
      ],
      "metadata": {
        "id": "OfYEt7TPUI4P"
      },
      "execution_count": null,
      "outputs": []
    },
    {
      "cell_type": "markdown",
      "source": [
        "# Exercises\n",
        "1. Check if a number is even.\n",
        "2. Display a message if a list is empty."
      ],
      "metadata": {
        "id": "E3ZJ0rJETrd3"
      }
    },
    {
      "cell_type": "markdown",
      "source": [
        "# **else Statements**"
      ],
      "metadata": {
        "id": "mxiWrGtzUS8v"
      }
    },
    {
      "cell_type": "markdown",
      "source": [
        "How else complements if.\n",
        "\n",
        "Example: Categorize a number as positive or negative."
      ],
      "metadata": {
        "id": "N8YNTq1_UZpA"
      }
    },
    {
      "cell_type": "code",
      "source": [
        "number = -7\n",
        "if number > 0:\n",
        "    print('Number is positive')\n",
        "else:\n",
        "    print('Number is negative')# Change the number values and observe the output"
      ],
      "metadata": {
        "id": "v5RcntzoS_9V"
      },
      "execution_count": null,
      "outputs": []
    },
    {
      "cell_type": "code",
      "source": [
        "#Write a script to compare two numbers.\n",
        "n1 = 6\n",
        "n2 = 5\n",
        "if n1>n2:\n",
        "  print ('n1 is greater then n2')\n",
        "\n",
        "else:\n",
        "  print ('n2 is greater then n1')"
      ],
      "metadata": {
        "id": "3EJ_LZSbU9Q0"
      },
      "execution_count": null,
      "outputs": []
    },
    {
      "cell_type": "markdown",
      "source": [
        "# Exercises\n",
        "1. Write a script to check if a number as odd or even."
      ],
      "metadata": {
        "id": "eU531oDmVB6w"
      }
    },
    {
      "cell_type": "markdown",
      "source": [
        "# **elif Statements**\n",
        "\n",
        "Using elif for multiple conditions.\n",
        "\n",
        "Example: Classify a grade.\n"
      ],
      "metadata": {
        "id": "7pUMUUznVIU_"
      }
    },
    {
      "cell_type": "code",
      "source": [
        "grade = 75\n",
        "if grade >= 90:\n",
        "    print('A')\n",
        "elif grade >= 80:\n",
        "    print('B')\n",
        "elif grade >= 70:\n",
        "    print('B+')\n",
        "else:\n",
        "    print('C or below')# Change the grade values and observe the output."
      ],
      "metadata": {
        "id": "4tho4aWyVH1H"
      },
      "execution_count": null,
      "outputs": []
    },
    {
      "cell_type": "code",
      "source": [
        "# write a script for age categories\n",
        "age = 15\n",
        "if age <= 0:\n",
        "  print ('Invalid input')\n",
        "elif age < 18:\n",
        "  print ('Age category: Child')\n",
        "elif age < 65:\n",
        "  print ('Age category: Adult')\n",
        "else :\n",
        "  print ('Age category: Senior')"
      ],
      "metadata": {
        "id": "zDyXuX_WVZuA"
      },
      "execution_count": null,
      "outputs": []
    },
    {
      "cell_type": "markdown",
      "source": [
        "# Exercises\n",
        "1. Write a script for Temp categories."
      ],
      "metadata": {
        "id": "odFWn8jPVfjK"
      }
    },
    {
      "cell_type": "markdown",
      "source": [
        "# **for Loops**\n",
        "\n",
        "Iterating over sequences.\n",
        "\n",
        "Example: Loop through a list."
      ],
      "metadata": {
        "id": "44LIBXLwVonp"
      }
    },
    {
      "cell_type": "code",
      "source": [
        "for item in [1, 2, 3, 4, 5,6, 'hi']:\n",
        "    print(item)"
      ],
      "metadata": {
        "id": "zAfcsqrrV1u3"
      },
      "execution_count": null,
      "outputs": []
    },
    {
      "cell_type": "markdown",
      "source": [
        "# Exercises\n",
        "\n",
        "* Print each character in a string.\n",
        "* Create a list of squares of the first 10 natural numbers."
      ],
      "metadata": {
        "id": "xI7ASOU3V6vw"
      }
    },
    {
      "cell_type": "markdown",
      "source": [
        "# **while Loops**\n",
        "\n",
        "Looping with a condition.\n",
        "\n",
        "Example: Count down from 10.\n"
      ],
      "metadata": {
        "id": "fkuMb7I0WIxv"
      }
    },
    {
      "cell_type": "code",
      "source": [
        "i = 100\n",
        "while i >= 0:\n",
        "    print(i)\n",
        "    i -= 10"
      ],
      "metadata": {
        "id": "BvWKAaC_V6GM"
      },
      "execution_count": null,
      "outputs": []
    },
    {
      "cell_type": "markdown",
      "source": [
        "# Exercises\n",
        "\n",
        "* Add numbers until sum reaches 100.\n"
      ],
      "metadata": {
        "id": "sq1AFBqYWWSy"
      }
    },
    {
      "cell_type": "markdown",
      "source": [
        "# **Infinite Loops and break**\n",
        "\n",
        "Example and explanation of an infinite loop.\n",
        "\n",
        "How to use break to exit a loop."
      ],
      "metadata": {
        "id": "Ll_ajaLRWrIC"
      }
    },
    {
      "cell_type": "code",
      "source": [
        "while True:\n",
        "    print('Infinite loop')\n",
        "    break"
      ],
      "metadata": {
        "id": "05StLp8CWque"
      },
      "execution_count": null,
      "outputs": []
    },
    {
      "cell_type": "code",
      "source": [
        "# Modify infinite loop to exit on condition\n",
        "num= 0\n",
        "\n",
        "while True:\n",
        "  print('Number:',num)\n",
        "  num +=1\n",
        "  if num == 10:\n",
        "    break"
      ],
      "metadata": {
        "id": "MZNxShJOWpCx"
      },
      "execution_count": null,
      "outputs": []
    },
    {
      "cell_type": "markdown",
      "source": [
        "**Discussion:**\n",
        "\n",
        "1. What do you think the following line in our code does?\n",
        "\n",
        "```\n",
        "import random\n",
        "```\n",
        "\n",
        "2. How about\n",
        "\n",
        "```\n",
        "int(input('Guess a number: '))\n",
        "```"
      ],
      "metadata": {
        "id": "_oS66iAQXDxA"
      }
    },
    {
      "cell_type": "markdown",
      "source": [
        "# Exercises\n",
        "\n",
        "Guessing game with break on correct guess."
      ],
      "metadata": {
        "id": "Z3Dn0VN6W3Q2"
      }
    },
    {
      "cell_type": "code",
      "source": [
        "import random\n",
        "number = random.randint(1, 10) # Generate a random number between 1 and 10 (inclusive)\n",
        "\n",
        "# Allow the user three attempts to guess the number\n",
        "for _ in range(3):\n",
        "\n",
        "      # Get a guess from the user\n",
        "    guess = int(input('Guess a number: '))\n",
        "\n",
        "\n",
        "    # Check if the guess is correct\n",
        "    if guess == number:\n",
        "        print('Correct!')\n",
        "        break   # Exit the loop if the guess is correct\n",
        "    else:\n",
        "        print('Try again') # Prompt the user to try again if the guess is incorrect\n",
        "else: # If the loop completes three iterations without a correct guess, print \"Game over\"\n",
        "    print('Game over')"
      ],
      "metadata": {
        "id": "9dYeBgcVciAt"
      },
      "execution_count": null,
      "outputs": []
    },
    {
      "cell_type": "markdown",
      "source": [
        "# Version Control with VSCode\n",
        "\n",
        "**Version control systems (VCS)** play a crucial role in collaborative software development projects by enabling teams to track changes, collaborate effectively, and manage project history.\n",
        "\n",
        "\n",
        ""
      ],
      "metadata": {
        "id": "IObwM6CNc4QJ"
      }
    },
    {
      "cell_type": "markdown",
      "source": [
        "**Importance of Version Control**\n",
        "\n",
        "1. **Tracking Changes:** Version control systems allow developers to track changes made to code over time. Every modification, addition, or deletion is recorded along with relevant metadata such as the author's name, timestamp, and a brief description of the change. This helps in understanding the evolution of the codebase and reverting to previous versions if needed.\n",
        "\n",
        "2. **Collaboration:** VCS facilitates seamless collaboration among team members, regardless of their geographical locations. Developers can work simultaneously on different aspects of the project without worrying about conflicts or overwriting each other's changes. VCS provides features like branching and merging, allowing developers to work on isolated features or fixes and merge them back into the main codebase effortlessly.\n",
        "\n",
        "3. **Project History Management:** With version control, project history is meticulously maintained, documenting every change made to the codebase. This historical record serves as a valuable resource for understanding the rationale behind certain decisions, tracking the progression of features, and identifying the source of bugs or issues. It also facilitates compliance with regulatory requirements and audit processes."
      ],
      "metadata": {
        "id": "0mSUsxpQdqZ7"
      }
    },
    {
      "cell_type": "markdown",
      "source": [
        "# **Using Version Control in VSCode**\n",
        "\n",
        "Integrating version control directly within the VSCode environment streamlines the development workflow and enhances productivity. VSCode supports various version control systems such as Git, allowing developers to perform common version control tasks without leaving their coding environment."
      ],
      "metadata": {
        "id": "qPBMEIrgeLGG"
      }
    },
    {
      "cell_type": "markdown",
      "source": [
        "**Key features and benefits of using version control in VSCode**\n",
        "\n",
        "1. **Git Integration:** VSCode seamlessly integrates with Git, providing a rich set of features for managing repositories, branches, commits, and more.\n",
        "\n",
        "2. **Visual Diff and Merge:** Developers can visualize code changes, compare different versions of files, and resolve conflicts using built-in visual diff and merge tools.\n",
        "\n",
        "3. **Commit History:** VSCode provides an interactive commit history view, allowing developers to browse through past commits, view commit details, and revert changes if necessary.\n",
        "\n",
        "4. **Branch Management:** Managing branches becomes effortless with VSCode, enabling developers to create, switch, merge, and delete branches seamlessly.\n",
        "\n",
        "5. **Remote Repository Interaction:** VSCode simplifies interaction with remote repositories hosted on platforms like GitHub, GitLab, or Bitbucket, enabling developers to push, pull, fetch, and clone repositories with ease."
      ],
      "metadata": {
        "id": "5JL6ctxSeWaw"
      }
    },
    {
      "cell_type": "markdown",
      "source": [
        "# **Demo**\n",
        "\n",
        "Basics of Git version control in VS Code\n",
        "\n",
        "\n"
      ],
      "metadata": {
        "id": "YWeMqzlEg63O"
      }
    },
    {
      "cell_type": "markdown",
      "source": [
        "# Recap\n",
        "\n",
        "* Delved into the fundamental concept of conditional statements in Python.\n",
        "\n",
        "* Introduced the concept of loops\n",
        "\n",
        "* Constructed a basic number-guessing game utilizing concepts learnt\n",
        "\n",
        "* Introduction to Version Control with VSCode\n"
      ],
      "metadata": {
        "id": "ZJYi_XHIWmw9"
      }
    }
  ]
}